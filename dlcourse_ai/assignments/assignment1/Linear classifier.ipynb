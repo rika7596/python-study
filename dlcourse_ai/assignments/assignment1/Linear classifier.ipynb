{
 "cells": [
  {
   "cell_type": "markdown",
   "metadata": {},
   "source": [
    "# Задание 1.2 - Линейный классификатор (Linear classifier)\n",
    "\n",
    "В этом задании мы реализуем другую модель машинного обучения - линейный классификатор. Линейный классификатор подбирает для каждого класса веса, на которые нужно умножить значение каждого признака и потом сложить вместе.\n",
    "Тот класс, у которого эта сумма больше, и является предсказанием модели.\n",
    "\n",
    "В этом задании вы:\n",
    "- потренируетесь считать градиенты различных многомерных функций\n",
    "- реализуете подсчет градиентов через линейную модель и функцию потерь softmax\n",
    "- реализуете процесс тренировки линейного классификатора\n",
    "- подберете параметры тренировки на практике\n",
    "\n",
    "На всякий случай, еще раз ссылка на туториал по numpy:  \n",
    "http://cs231n.github.io/python-numpy-tutorial/"
   ]
  },
  {
   "cell_type": "code",
   "execution_count": 1,
   "metadata": {},
   "outputs": [],
   "source": [
    "import numpy as np\n",
    "import matplotlib.pyplot as plt\n",
    "\n",
    "%matplotlib inline\n",
    "\n",
    "%load_ext autoreload\n",
    "%autoreload 2"
   ]
  },
  {
   "cell_type": "code",
   "execution_count": 2,
   "metadata": {},
   "outputs": [],
   "source": [
    "from dataset import load_svhn, random_split_train_val\n",
    "from gradient_check import check_gradient\n",
    "from metrics import multiclass_accuracy \n",
    "import linear_classifer"
   ]
  },
  {
   "cell_type": "markdown",
   "metadata": {},
   "source": [
    "# Как всегда, первым делом загружаем данные\n",
    "\n",
    "Мы будем использовать все тот же SVHN."
   ]
  },
  {
   "cell_type": "code",
   "execution_count": 3,
   "metadata": {},
   "outputs": [],
   "source": [
    "def prepare_for_linear_classifier(train_X, test_X):\n",
    "    train_flat = train_X.reshape(train_X.shape[0], -1).astype(np.float) / 255.0\n",
    "    test_flat = test_X.reshape(test_X.shape[0], -1).astype(np.float) / 255.0\n",
    "    \n",
    "    # Subtract mean\n",
    "    mean_image = np.mean(train_flat, axis = 0)\n",
    "    train_flat -= mean_image\n",
    "    test_flat -= mean_image\n",
    "    \n",
    "    # Add another channel with ones as a bias term\n",
    "    train_flat_with_ones = np.hstack([train_flat, np.ones((train_X.shape[0], 1))])\n",
    "    test_flat_with_ones = np.hstack([test_flat, np.ones((test_X.shape[0], 1))])    \n",
    "    return train_flat_with_ones, test_flat_with_ones\n",
    "    \n",
    "train_X, train_y, test_X, test_y = load_svhn(\"data\", max_train=10000, max_test=1000)    \n",
    "train_X, test_X = prepare_for_linear_classifier(train_X, test_X)\n",
    "# Split train into train and val\n",
    "train_X, train_y, val_X, val_y = random_split_train_val(train_X, train_y, num_val = 1000)"
   ]
  },
  {
   "cell_type": "markdown",
   "metadata": {},
   "source": [
    "# Играемся с градиентами!\n",
    "\n",
    "В этом курсе мы будем писать много функций, которые вычисляют градиенты аналитическим методом.\n",
    "\n",
    "Все функции, в которых мы будем вычислять градиенты будут написаны по одной и той же схеме.  \n",
    "Они будут получать на вход точку, где нужно вычислить значение и градиент функции, а на выходе будут выдавать кортеж (tuple) из двух значений - собственно значения функции в этой точке (всегда одно число) и аналитического значения градиента в той же точке (той же размерности, что и вход).\n",
    "```\n",
    "def f(x):\n",
    "    \"\"\"\n",
    "    Computes function and analytic gradient at x\n",
    "    \n",
    "    x: np array of float, input to the function\n",
    "    \n",
    "    Returns:\n",
    "    value: float, value of the function \n",
    "    grad: np array of float, same shape as x\n",
    "    \"\"\"\n",
    "    ...\n",
    "    \n",
    "    return value, grad\n",
    "```\n",
    "\n",
    "Необходимым инструментом во время реализации кода, вычисляющего градиенты, является функция его проверки. Эта функция вычисляет градиент численным методом и сверяет результат с градиентом, вычисленным аналитическим методом.\n",
    "\n",
    "Мы начнем с того, чтобы реализовать вычисление численного градиента (numeric gradient) в функции `check_gradient` в `gradient_check.py`. Эта функция будет принимать на вход функции формата, заданного выше, использовать значение `value` для вычисления численного градиента и сравнит его с аналитическим - они должны сходиться.\n",
    "\n",
    "Напишите часть функции, которая вычисляет градиент с помощью численной производной для каждой координаты. Для вычисления производной используйте так называемую two-point formula (https://en.wikipedia.org/wiki/Numerical_differentiation):\n",
    "\n",
    "![image](https://wikimedia.org/api/rest_v1/media/math/render/svg/22fc2c0a66c63560a349604f8b6b39221566236d)\n",
    "\n",
    "Все функции приведенные в следующей клетке должны проходить gradient check."
   ]
  },
  {
   "cell_type": "code",
   "execution_count": 4,
   "metadata": {
    "scrolled": true
   },
   "outputs": [
    {
     "name": "stdout",
     "output_type": "stream",
     "text": [
      "Gradient check passed!\n",
      "Gradient check passed!\n",
      "Gradient check passed!\n"
     ]
    },
    {
     "data": {
      "text/plain": [
       "True"
      ]
     },
     "execution_count": 4,
     "metadata": {},
     "output_type": "execute_result"
    }
   ],
   "source": [
    "# TODO: Implement check_gradient function in gradient_check.py\n",
    "# All the functions below should pass the gradient check\n",
    "\n",
    "def square(x):\n",
    "    return float(x*x), 2*x\n",
    "\n",
    "check_gradient(square, np.array([3.0]))\n",
    "\n",
    "def array_sum(x):\n",
    "    assert x.shape == (2,), x.shape\n",
    "    return np.sum(x), np.ones_like(x)\n",
    "\n",
    "check_gradient(array_sum, np.array([3.0, 2.0]))\n",
    "\n",
    "def array_2d_sum(x):\n",
    "    assert x.shape == (2,2)\n",
    "    return np.sum(x), np.ones_like(x)\n",
    "\n",
    "check_gradient(array_2d_sum, np.array([[3.0, 2.0], [1.0, 0.0]]))"
   ]
  },
  {
   "cell_type": "markdown",
   "metadata": {},
   "source": [
    "## Начинаем писать свои функции, считающие аналитический градиент\n",
    "\n",
    "Теперь реализуем функцию softmax, которая получает на вход оценки для каждого класса и преобразует их в вероятности от 0 до 1:\n",
    "![image](https://wikimedia.org/api/rest_v1/media/math/render/svg/e348290cf48ddbb6e9a6ef4e39363568b67c09d3)\n",
    "\n",
    "**Важно:** Практический аспект вычисления этой функции заключается в том, что в ней учавствует вычисление экспоненты от потенциально очень больших чисел - это может привести к очень большим значениям в числителе и знаменателе за пределами диапазона float.\n",
    "\n",
    "К счастью, у этой проблемы есть простое решение -- перед вычислением softmax вычесть из всех оценок максимальное значение среди всех оценок:\n",
    "```\n",
    "predictions -= np.max(predictions)\n",
    "```\n",
    "(подробнее здесь - http://cs231n.github.io/linear-classify/#softmax, секция `Practical issues: Numeric stability`)"
   ]
  },
  {
   "cell_type": "code",
   "execution_count": 5,
   "metadata": {},
   "outputs": [],
   "source": [
    "# TODO Implement softmax and cross-entropy for single sample\n",
    "probs = linear_classifer.softmax(np.array([-10, 0, 10]))\n",
    "\n",
    "# Make sure it works for big numbers too!\n",
    "probs = linear_classifer.softmax(np.array([1000, 0, 0]))\n",
    "assert np.isclose(probs[0], 1.0)"
   ]
  },
  {
   "cell_type": "markdown",
   "metadata": {},
   "source": [
    "Кроме этого, мы реализуем cross-entropy loss, которую мы будем использовать как функцию ошибки (error function).\n",
    "В общем виде cross-entropy определена следующим образом:\n",
    "![image](https://wikimedia.org/api/rest_v1/media/math/render/svg/0cb6da032ab424eefdca0884cd4113fe578f4293)\n",
    "\n",
    "где x - все классы, p(x) - истинная вероятность принадлежности сэмпла классу x, а q(x) - вероятность принадлежности классу x, предсказанная моделью.  \n",
    "В нашем случае сэмпл принадлежит только одному классу, индекс которого передается функции. Для него p(x) равна 1, а для остальных классов - 0. \n",
    "\n",
    "Это позволяет реализовать функцию проще!"
   ]
  },
  {
   "cell_type": "code",
   "execution_count": 6,
   "metadata": {},
   "outputs": [
    {
     "data": {
      "text/plain": [
       "5.006760443547122"
      ]
     },
     "execution_count": 6,
     "metadata": {},
     "output_type": "execute_result"
    }
   ],
   "source": [
    "probs = linear_classifer.softmax(np.array([-5, 0, 5]))\n",
    "linear_classifer.cross_entropy_loss(probs, 1)"
   ]
  },
  {
   "cell_type": "markdown",
   "metadata": {},
   "source": [
    "После того как мы реализовали сами функции, мы можем реализовать градиент.\n",
    "\n",
    "Оказывается, что вычисление градиента становится гораздо проще, если объединить эти функции в одну, которая сначала вычисляет вероятности через softmax, а потом использует их для вычисления функции ошибки через cross-entropy loss.\n",
    "\n",
    "Эта функция `softmax_with_cross_entropy` будет возвращает и значение ошибки, и градиент по входным параметрам. Мы проверим корректность реализации с помощью `check_gradient`."
   ]
  },
  {
   "cell_type": "code",
   "execution_count": 7,
   "metadata": {},
   "outputs": [
    {
     "name": "stdout",
     "output_type": "stream",
     "text": [
      "Gradient check passed!\n"
     ]
    },
    {
     "data": {
      "text/plain": [
       "True"
      ]
     },
     "execution_count": 7,
     "metadata": {},
     "output_type": "execute_result"
    }
   ],
   "source": [
    "# TODO Implement combined function or softmax and cross entropy and produces gradient\n",
    "loss, grad = linear_classifer.softmax_with_cross_entropy(np.array([1, 0, 0]), 1)\n",
    "check_gradient(lambda x: linear_classifer.softmax_with_cross_entropy(x, 1), np.array([1, 0, 0], np.float))"
   ]
  },
  {
   "cell_type": "markdown",
   "metadata": {},
   "source": [
    "В качестве метода тренировки мы будем использовать стохастический градиентный спуск (stochastic gradient descent или SGD), который работает с батчами сэмплов. \n",
    "\n",
    "Поэтому все наши фукнции будут получать не один пример, а батч, то есть входом будет не вектор из `num_classes` оценок, а матрица размерности `batch_size, num_classes`. Индекс примера в батче всегда будет первым измерением.\n",
    "\n",
    "Следующий шаг - переписать наши функции так, чтобы они поддерживали батчи.\n",
    "\n",
    "Финальное значение функции ошибки должно остаться числом, и оно равно среднему значению ошибки среди всех примеров в батче."
   ]
  },
  {
   "cell_type": "code",
   "execution_count": 8,
   "metadata": {
    "scrolled": false
   },
   "outputs": [
    {
     "name": "stdout",
     "output_type": "stream",
     "text": [
      "Gradient check passed!\n",
      "Gradient check passed!\n"
     ]
    },
    {
     "data": {
      "text/plain": [
       "True"
      ]
     },
     "execution_count": 8,
     "metadata": {},
     "output_type": "execute_result"
    }
   ],
   "source": [
    "# TODO Extend combined function so it can receive a 2d array with batch of samples\n",
    "\n",
    "np.random.seed(42)\n",
    "# Test batch_size = 1\n",
    "num_classes = 4\n",
    "batch_size = 1\n",
    "predictions = np.random.randint(-1, 3, size=(batch_size, num_classes)).astype(np.float)\n",
    "target_index = np.random.randint(0, num_classes, size=(batch_size, 1)).astype(np.int)\n",
    "check_gradient(lambda x: linear_classifer.softmax_with_cross_entropy(x, target_index), predictions)\n",
    "\n",
    "# Test batch_size = 3\n",
    "num_classes = 4\n",
    "batch_size = 3\n",
    "predictions = np.random.randint(-1, 3, size=(batch_size, num_classes)).astype(np.float)\n",
    "target_index = np.random.randint(0, num_classes, size=(batch_size, 1)).astype(np.int)\n",
    "linear_classifer.softmax_with_cross_entropy(predictions, target_index)\n",
    "check_gradient(lambda x: linear_classifer.softmax_with_cross_entropy(x, target_index), predictions)"
   ]
  },
  {
   "cell_type": "markdown",
   "metadata": {},
   "source": [
    "### Наконец, реализуем сам линейный классификатор!\n",
    "\n",
    "softmax и cross-entropy получают на вход оценки, которые выдает линейный классификатор.\n",
    "\n",
    "Он делает это очень просто: для каждого класса есть набор весов, на которые надо умножить пиксели картинки и сложить. Получившееся число и является оценкой класса, идущей на вход softmax.\n",
    "\n",
    "Таким образом, линейный классификатор можно представить как умножение вектора с пикселями на матрицу W размера `num_features, num_classes`. Такой подход легко расширяется на случай батча векторов с пикселями X размера `batch_size, num_features`:\n",
    "\n",
    "`predictions = X * W`, где `*` - матричное умножение.\n",
    "\n",
    "Реализуйте функцию подсчета линейного классификатора и градиентов по весам `linear_softmax` в файле `linear_classifer.py`"
   ]
  },
  {
   "cell_type": "code",
   "execution_count": 9,
   "metadata": {},
   "outputs": [
    {
     "name": "stdout",
     "output_type": "stream",
     "text": [
      "Gradient check passed!\n"
     ]
    },
    {
     "data": {
      "text/plain": [
       "True"
      ]
     },
     "execution_count": 9,
     "metadata": {},
     "output_type": "execute_result"
    }
   ],
   "source": [
    "# TODO Implement linear_softmax function that uses softmax with cross-entropy for linear classifier\n",
    "batch_size = 2\n",
    "num_classes = 4\n",
    "num_features = 3\n",
    "np.random.seed(42)\n",
    "W = np.random.randint(-1, 3, size=(num_features, num_classes)).astype(np.float)\n",
    "X = np.random.randint(-1, 3, size=(batch_size, num_features)).astype(np.float)\n",
    "target_index = np.ones(batch_size, dtype=np.int)\n",
    "\n",
    "loss, dW = linear_classifer.linear_softmax(X, W, target_index)\n",
    "loss\n",
    "check_gradient(lambda w: linear_classifer.linear_softmax(X, w, target_index), W)"
   ]
  },
  {
   "cell_type": "markdown",
   "metadata": {},
   "source": [
    "### И теперь регуляризация\n",
    "\n",
    "Мы будем использовать L2 regularization для весов как часть общей функции ошибки.\n",
    "\n",
    "Напомним, L2 regularization определяется как\n",
    "\n",
    "l2_reg_loss = regularization_strength * sum<sub>ij</sub> W[i, j]<sup>2</sup>\n",
    "\n",
    "Реализуйте функцию для его вычисления и вычисления соотвествующих градиентов."
   ]
  },
  {
   "cell_type": "code",
   "execution_count": 10,
   "metadata": {},
   "outputs": [
    {
     "name": "stdout",
     "output_type": "stream",
     "text": [
      "Gradient check passed!\n"
     ]
    },
    {
     "data": {
      "text/plain": [
       "True"
      ]
     },
     "execution_count": 10,
     "metadata": {},
     "output_type": "execute_result"
    }
   ],
   "source": [
    "# TODO Implement l2_regularization function that implements loss for L2 regularization\n",
    "linear_classifer.l2_regularization(W, 0.01)\n",
    "check_gradient(lambda w: linear_classifer.l2_regularization(w, 0.01), W)"
   ]
  },
  {
   "cell_type": "markdown",
   "metadata": {},
   "source": [
    "# Тренировка!"
   ]
  },
  {
   "cell_type": "markdown",
   "metadata": {},
   "source": [
    "Градиенты в порядке, реализуем процесс тренировки!"
   ]
  },
  {
   "cell_type": "code",
   "execution_count": 11,
   "metadata": {
    "scrolled": false
   },
   "outputs": [
    {
     "name": "stdout",
     "output_type": "stream",
     "text": [
      "Epoch 0, loss: 2.484536\n",
      "Epoch 1, loss: 2.356184\n",
      "Epoch 2, loss: 2.318042\n",
      "Epoch 3, loss: 2.306638\n",
      "Epoch 4, loss: 2.303287\n",
      "Epoch 5, loss: 2.302302\n",
      "Epoch 6, loss: 2.301991\n",
      "Epoch 7, loss: 2.301892\n",
      "Epoch 8, loss: 2.301875\n",
      "Epoch 9, loss: 2.301859\n"
     ]
    }
   ],
   "source": [
    "# TODO: Implement LinearSoftmaxClassifier.fit function\n",
    "classifier = linear_classifer.LinearSoftmaxClassifier()\n",
    "loss_history = classifier.fit(train_X, train_y, epochs=10, learning_rate=1e-3, batch_size=300, reg=1e1)"
   ]
  },
  {
   "cell_type": "code",
   "execution_count": 12,
   "metadata": {},
   "outputs": [
    {
     "data": {
      "text/plain": [
       "[<matplotlib.lines.Line2D at 0x7f67a4626940>]"
      ]
     },
     "execution_count": 12,
     "metadata": {},
     "output_type": "execute_result"
    },
    {
     "data": {
      "image/png": "[encoded data removed]",
      "text/plain": [
       "<Figure size 432x288 with 1 Axes>"
      ]
     },
     "metadata": {
      "needs_background": "light"
     },
     "output_type": "display_data"
    }
   ],
   "source": [
    "# let's look at the loss history!\n",
    "plt.plot(loss_history)"
   ]
  },
  {
   "cell_type": "code",
   "execution_count": 13,
   "metadata": {},
   "outputs": [
    {
     "name": "stdout",
     "output_type": "stream",
     "text": [
      "Accuracy:  0.13\n",
      "Epoch 0, loss: 2.301880\n",
      "Epoch 1, loss: 2.301869\n",
      "Epoch 2, loss: 2.301865\n",
      "Epoch 3, loss: 2.301857\n",
      "Epoch 4, loss: 2.301859\n",
      "Epoch 5, loss: 2.301884\n",
      "Epoch 6, loss: 2.301865\n",
      "Epoch 7, loss: 2.301863\n",
      "Epoch 8, loss: 2.301884\n",
      "Epoch 9, loss: 2.301863\n",
      "Epoch 10, loss: 2.301852\n",
      "Epoch 11, loss: 2.301859\n",
      "Epoch 12, loss: 2.301846\n",
      "Epoch 13, loss: 2.301862\n",
      "Epoch 14, loss: 2.301862\n",
      "Epoch 15, loss: 2.301889\n",
      "Epoch 16, loss: 2.301865\n",
      "Epoch 17, loss: 2.301863\n",
      "Epoch 18, loss: 2.301874\n",
      "Epoch 19, loss: 2.301865\n",
      "Epoch 20, loss: 2.301849\n",
      "Epoch 21, loss: 2.301864\n",
      "Epoch 22, loss: 2.301849\n",
      "Epoch 23, loss: 2.301870\n",
      "Epoch 24, loss: 2.301869\n",
      "Epoch 25, loss: 2.301857\n",
      "Epoch 26, loss: 2.301877\n",
      "Epoch 27, loss: 2.301867\n",
      "Epoch 28, loss: 2.301849\n",
      "Epoch 29, loss: 2.301854\n",
      "Epoch 30, loss: 2.301862\n",
      "Epoch 31, loss: 2.301862\n",
      "Epoch 32, loss: 2.301853\n",
      "Epoch 33, loss: 2.301877\n",
      "Epoch 34, loss: 2.301866\n",
      "Epoch 35, loss: 2.301865\n",
      "Epoch 36, loss: 2.301858\n",
      "Epoch 37, loss: 2.301851\n",
      "Epoch 38, loss: 2.301872\n",
      "Epoch 39, loss: 2.301859\n",
      "Epoch 40, loss: 2.301866\n",
      "Epoch 41, loss: 2.301858\n",
      "Epoch 42, loss: 2.301863\n",
      "Epoch 43, loss: 2.301867\n",
      "Epoch 44, loss: 2.301864\n",
      "Epoch 45, loss: 2.301872\n",
      "Epoch 46, loss: 2.301868\n",
      "Epoch 47, loss: 2.301883\n",
      "Epoch 48, loss: 2.301870\n",
      "Epoch 49, loss: 2.301858\n",
      "Epoch 50, loss: 2.301856\n",
      "Epoch 51, loss: 2.301865\n",
      "Epoch 52, loss: 2.301870\n",
      "Epoch 53, loss: 2.301870\n",
      "Epoch 54, loss: 2.301863\n",
      "Epoch 55, loss: 2.301847\n",
      "Epoch 56, loss: 2.301873\n",
      "Epoch 57, loss: 2.301872\n",
      "Epoch 58, loss: 2.301868\n",
      "Epoch 59, loss: 2.301851\n",
      "Epoch 60, loss: 2.301860\n",
      "Epoch 61, loss: 2.301859\n",
      "Epoch 62, loss: 2.301867\n",
      "Epoch 63, loss: 2.301865\n",
      "Epoch 64, loss: 2.301871\n",
      "Epoch 65, loss: 2.301869\n",
      "Epoch 66, loss: 2.301848\n",
      "Epoch 67, loss: 2.301860\n",
      "Epoch 68, loss: 2.301864\n",
      "Epoch 69, loss: 2.301860\n",
      "Epoch 70, loss: 2.301864\n",
      "Epoch 71, loss: 2.301873\n",
      "Epoch 72, loss: 2.301851\n",
      "Epoch 73, loss: 2.301871\n",
      "Epoch 74, loss: 2.301889\n",
      "Epoch 75, loss: 2.301869\n",
      "Epoch 76, loss: 2.301877\n",
      "Epoch 77, loss: 2.301871\n",
      "Epoch 78, loss: 2.301864\n",
      "Epoch 79, loss: 2.301866\n",
      "Epoch 80, loss: 2.301871\n",
      "Epoch 81, loss: 2.301868\n",
      "Epoch 82, loss: 2.301862\n",
      "Epoch 83, loss: 2.301852\n",
      "Epoch 84, loss: 2.301876\n",
      "Epoch 85, loss: 2.301856\n",
      "Epoch 86, loss: 2.301868\n",
      "Epoch 87, loss: 2.301865\n",
      "Epoch 88, loss: 2.301863\n",
      "Epoch 89, loss: 2.301878\n",
      "Epoch 90, loss: 2.301864\n",
      "Epoch 91, loss: 2.301873\n",
      "Epoch 92, loss: 2.301861\n",
      "Epoch 93, loss: 2.301872\n",
      "Epoch 94, loss: 2.301884\n",
      "Epoch 95, loss: 2.301877\n",
      "Epoch 96, loss: 2.301870\n",
      "Epoch 97, loss: 2.301869\n",
      "Epoch 98, loss: 2.301898\n",
      "Epoch 99, loss: 2.301862\n",
      "Accuracy after training for 100 epochs:  0.121\n"
     ]
    }
   ],
   "source": [
    "# Let's check how it performs on validation set\n",
    "pred = classifier.predict(val_X)\n",
    "accuracy = multiclass_accuracy(pred, val_y)\n",
    "print(\"Accuracy: \", accuracy)\n",
    "\n",
    "# Now, let's train more and see if it performs better\n",
    "classifier.fit(train_X, train_y, epochs=100, learning_rate=1e-3, batch_size=300, reg=1e1)\n",
    "pred = classifier.predict(val_X)\n",
    "accuracy = multiclass_accuracy(pred, val_y)\n",
    "print(\"Accuracy after training for 100 epochs: \", accuracy)"
   ]
  },
  {
   "cell_type": "markdown",
   "metadata": {},
   "source": [
    "### Как и раньше, используем кросс-валидацию для подбора гиперпараметтов.\n",
    "\n",
    "В этот раз, чтобы тренировка занимала разумное время, мы будем использовать только одно разделение на тренировочные (training) и проверочные (validation) данные.\n",
    "\n",
    "Теперь нам нужно подобрать не один, а два гиперпараметра! Не ограничивайте себя изначальными значениями в коде.  \n",
    "Добейтесь точности более чем **20%** на проверочных данных (validation data)."
   ]
  },
  {
   "cell_type": "code",
   "execution_count": 15,
   "metadata": {},
   "outputs": [
    {
     "name": "stdout",
     "output_type": "stream",
     "text": [
      "Epoch 0, loss: 2.293075\n",
      "Epoch 1, loss: 2.272022\n",
      "Epoch 2, loss: 2.254747\n",
      "Epoch 3, loss: 2.239467\n",
      "Epoch 4, loss: 2.226790\n",
      "Epoch 5, loss: 2.216770\n",
      "Epoch 6, loss: 2.207432\n",
      "Epoch 7, loss: 2.199877\n",
      "Epoch 8, loss: 2.193381\n",
      "Epoch 9, loss: 2.187395\n",
      "Epoch 10, loss: 2.181903\n",
      "Epoch 11, loss: 2.177441\n",
      "Epoch 12, loss: 2.173134\n",
      "Epoch 13, loss: 2.169547\n",
      "Epoch 14, loss: 2.166229\n",
      "Epoch 15, loss: 2.163390\n",
      "Epoch 16, loss: 2.160232\n",
      "Epoch 17, loss: 2.157982\n",
      "Epoch 18, loss: 2.155068\n",
      "Epoch 19, loss: 2.152442\n",
      "Epoch 20, loss: 2.150489\n",
      "Epoch 21, loss: 2.148651\n",
      "Epoch 22, loss: 2.146869\n",
      "Epoch 23, loss: 2.144829\n",
      "Epoch 24, loss: 2.142928\n",
      "Epoch 25, loss: 2.141482\n",
      "Epoch 26, loss: 2.139971\n",
      "Epoch 27, loss: 2.138402\n",
      "Epoch 28, loss: 2.136719\n",
      "Epoch 29, loss: 2.135739\n",
      "Epoch 30, loss: 2.134076\n",
      "Epoch 31, loss: 2.132614\n",
      "Epoch 32, loss: 2.131810\n",
      "Epoch 33, loss: 2.130393\n",
      "Epoch 34, loss: 2.129329\n",
      "Epoch 35, loss: 2.128099\n",
      "Epoch 36, loss: 2.126602\n",
      "Epoch 37, loss: 2.125939\n",
      "Epoch 38, loss: 2.125556\n",
      "Epoch 39, loss: 2.123560\n",
      "Epoch 40, loss: 2.122118\n",
      "Epoch 41, loss: 2.122015\n",
      "Epoch 42, loss: 2.121111\n",
      "Epoch 43, loss: 2.120190\n",
      "Epoch 44, loss: 2.119499\n",
      "Epoch 45, loss: 2.118533\n",
      "Epoch 46, loss: 2.117624\n",
      "Epoch 47, loss: 2.116560\n",
      "Epoch 48, loss: 2.116181\n",
      "Epoch 49, loss: 2.114754\n",
      "Epoch 50, loss: 2.114124\n",
      "Epoch 51, loss: 2.113535\n",
      "Epoch 52, loss: 2.112412\n",
      "Epoch 53, loss: 2.112217\n",
      "Epoch 54, loss: 2.111548\n",
      "Epoch 55, loss: 2.110934\n",
      "Epoch 56, loss: 2.110259\n",
      "Epoch 57, loss: 2.109095\n",
      "Epoch 58, loss: 2.108659\n",
      "Epoch 59, loss: 2.107578\n",
      "Epoch 60, loss: 2.107187\n",
      "Epoch 61, loss: 2.106545\n",
      "Epoch 62, loss: 2.106256\n",
      "Epoch 63, loss: 2.105187\n",
      "Epoch 64, loss: 2.104943\n",
      "Epoch 65, loss: 2.104356\n",
      "Epoch 66, loss: 2.103692\n",
      "Epoch 67, loss: 2.103228\n",
      "Epoch 68, loss: 2.102718\n",
      "Epoch 69, loss: 2.101798\n",
      "Epoch 70, loss: 2.101519\n",
      "Epoch 71, loss: 2.100878\n",
      "Epoch 72, loss: 2.100096\n",
      "Epoch 73, loss: 2.099646\n",
      "Epoch 74, loss: 2.098963\n",
      "Epoch 75, loss: 2.098898\n",
      "Epoch 76, loss: 2.098276\n",
      "Epoch 77, loss: 2.097933\n",
      "Epoch 78, loss: 2.097199\n",
      "Epoch 79, loss: 2.096917\n",
      "Epoch 80, loss: 2.096362\n",
      "Epoch 81, loss: 2.095983\n",
      "Epoch 82, loss: 2.095904\n",
      "Epoch 83, loss: 2.094575\n",
      "Epoch 84, loss: 2.094889\n",
      "Epoch 85, loss: 2.094236\n",
      "Epoch 86, loss: 2.093690\n",
      "Epoch 87, loss: 2.093227\n",
      "Epoch 88, loss: 2.092242\n",
      "Epoch 89, loss: 2.092539\n",
      "Epoch 90, loss: 2.091936\n",
      "Epoch 91, loss: 2.091254\n",
      "Epoch 92, loss: 2.090849\n",
      "Epoch 93, loss: 2.090731\n",
      "Epoch 94, loss: 2.089430\n",
      "Epoch 95, loss: 2.088965\n",
      "Epoch 96, loss: 2.089569\n",
      "Epoch 97, loss: 2.089034\n",
      "Epoch 98, loss: 2.088773\n",
      "Epoch 99, loss: 2.088388\n",
      "Accuracy after training for 100 epochs:  learning_rate: 0.01 reg_strengths 0.0001 -- 0.241\n",
      "Epoch 0, loss: 2.293789\n",
      "Epoch 1, loss: 2.272229\n",
      "Epoch 2, loss: 2.254099\n",
      "Epoch 3, loss: 2.239365\n",
      "Epoch 4, loss: 2.227173\n",
      "Epoch 5, loss: 2.216440\n",
      "Epoch 6, loss: 2.207651\n",
      "Epoch 7, loss: 2.199782\n",
      "Epoch 8, loss: 2.192672\n",
      "Epoch 9, loss: 2.187332\n",
      "Epoch 10, loss: 2.181991\n",
      "Epoch 11, loss: 2.176855\n",
      "Epoch 12, loss: 2.173331\n",
      "Epoch 13, loss: 2.168815\n",
      "Epoch 14, loss: 2.166376\n",
      "Epoch 15, loss: 2.163121\n",
      "Epoch 16, loss: 2.159879\n",
      "Epoch 17, loss: 2.157277\n",
      "Epoch 18, loss: 2.155081\n",
      "Epoch 19, loss: 2.152479\n",
      "Epoch 20, loss: 2.150653\n",
      "Epoch 21, loss: 2.148190\n",
      "Epoch 22, loss: 2.145856\n",
      "Epoch 23, loss: 2.144439\n",
      "Epoch 24, loss: 2.142572\n",
      "Epoch 25, loss: 2.141138\n",
      "Epoch 26, loss: 2.139412\n",
      "Epoch 27, loss: 2.137840\n",
      "Epoch 28, loss: 2.136760\n",
      "Epoch 29, loss: 2.135453\n",
      "Epoch 30, loss: 2.133572\n",
      "Epoch 31, loss: 2.132183\n",
      "Epoch 32, loss: 2.131182\n",
      "Epoch 33, loss: 2.130115\n",
      "Epoch 34, loss: 2.128913\n",
      "Epoch 35, loss: 2.127704\n",
      "Epoch 36, loss: 2.125990\n",
      "Epoch 37, loss: 2.125448\n",
      "Epoch 38, loss: 2.124238\n",
      "Epoch 39, loss: 2.122991\n",
      "Epoch 40, loss: 2.122596\n",
      "Epoch 41, loss: 2.121186\n",
      "Epoch 42, loss: 2.120307\n",
      "Epoch 43, loss: 2.119465\n",
      "Epoch 44, loss: 2.118237\n",
      "Epoch 45, loss: 2.118159\n",
      "Epoch 46, loss: 2.116692\n",
      "Epoch 47, loss: 2.116009\n",
      "Epoch 48, loss: 2.114585\n",
      "Epoch 49, loss: 2.114606\n",
      "Epoch 50, loss: 2.113377\n",
      "Epoch 51, loss: 2.112663\n",
      "Epoch 52, loss: 2.112101\n",
      "Epoch 53, loss: 2.111111\n",
      "Epoch 54, loss: 2.110652\n",
      "Epoch 55, loss: 2.109872\n",
      "Epoch 56, loss: 2.109136\n",
      "Epoch 57, loss: 2.108066\n",
      "Epoch 58, loss: 2.107265\n",
      "Epoch 59, loss: 2.106704\n",
      "Epoch 60, loss: 2.106378\n",
      "Epoch 61, loss: 2.105951\n",
      "Epoch 62, loss: 2.104855\n",
      "Epoch 63, loss: 2.104499\n",
      "Epoch 64, loss: 2.103650\n",
      "Epoch 65, loss: 2.102648\n",
      "Epoch 66, loss: 2.102685\n",
      "Epoch 67, loss: 2.102154\n",
      "Epoch 68, loss: 2.101260\n",
      "Epoch 69, loss: 2.100594\n",
      "Epoch 70, loss: 2.100222\n",
      "Epoch 71, loss: 2.099510\n",
      "Epoch 72, loss: 2.099404\n",
      "Epoch 73, loss: 2.099032\n",
      "Epoch 74, loss: 2.098376\n",
      "Epoch 75, loss: 2.097723\n",
      "Epoch 76, loss: 2.097456\n",
      "Epoch 77, loss: 2.096861\n",
      "Epoch 78, loss: 2.096545\n",
      "Epoch 79, loss: 2.095968\n",
      "Epoch 80, loss: 2.095179\n",
      "Epoch 81, loss: 2.094476\n",
      "Epoch 82, loss: 2.094278\n",
      "Epoch 83, loss: 2.094027\n",
      "Epoch 84, loss: 2.092796\n",
      "Epoch 85, loss: 2.092969\n",
      "Epoch 86, loss: 2.092522\n",
      "Epoch 87, loss: 2.091772\n",
      "Epoch 88, loss: 2.091375\n",
      "Epoch 89, loss: 2.091211\n",
      "Epoch 90, loss: 2.090798\n",
      "Epoch 91, loss: 2.089803\n",
      "Epoch 92, loss: 2.090259\n",
      "Epoch 93, loss: 2.089308\n",
      "Epoch 94, loss: 2.088994\n",
      "Epoch 95, loss: 2.087863\n",
      "Epoch 96, loss: 2.088182\n",
      "Epoch 97, loss: 2.087587\n",
      "Epoch 98, loss: 2.087304\n",
      "Epoch 99, loss: 2.086905\n",
      "Accuracy after training for 100 epochs:  learning_rate: 0.01 reg_strengths 1e-05 -- 0.247\n",
      "Epoch 0, loss: 2.293847\n",
      "Epoch 1, loss: 2.272040\n",
      "Epoch 2, loss: 2.254197\n",
      "Epoch 3, loss: 2.239242\n",
      "Epoch 4, loss: 2.226762\n",
      "Epoch 5, loss: 2.216349\n",
      "Epoch 6, loss: 2.207741\n",
      "Epoch 7, loss: 2.199845\n",
      "Epoch 8, loss: 2.192940\n",
      "Epoch 9, loss: 2.187123\n",
      "Epoch 10, loss: 2.181793\n",
      "Epoch 11, loss: 2.176945\n",
      "Epoch 12, loss: 2.172825\n",
      "Epoch 13, loss: 2.169107\n",
      "Epoch 14, loss: 2.166664\n",
      "Epoch 15, loss: 2.163340\n",
      "Epoch 16, loss: 2.160160\n",
      "Epoch 17, loss: 2.157160\n",
      "Epoch 18, loss: 2.154669\n",
      "Epoch 19, loss: 2.152453\n",
      "Epoch 20, loss: 2.150875\n",
      "Epoch 21, loss: 2.148199\n",
      "Epoch 22, loss: 2.146345\n",
      "Epoch 23, loss: 2.144753\n",
      "Epoch 24, loss: 2.142639\n",
      "Epoch 25, loss: 2.141329\n",
      "Epoch 26, loss: 2.139622\n",
      "Epoch 27, loss: 2.137870\n",
      "Epoch 28, loss: 2.136849\n",
      "Epoch 29, loss: 2.135041\n",
      "Epoch 30, loss: 2.134338\n",
      "Epoch 31, loss: 2.132506\n",
      "Epoch 32, loss: 2.130748\n",
      "Epoch 33, loss: 2.130101\n",
      "Epoch 34, loss: 2.128933\n",
      "Epoch 35, loss: 2.127054\n",
      "Epoch 36, loss: 2.126295\n",
      "Epoch 37, loss: 2.125959\n",
      "Epoch 38, loss: 2.124171\n",
      "Epoch 39, loss: 2.123129\n",
      "Epoch 40, loss: 2.122349\n",
      "Epoch 41, loss: 2.121092\n",
      "Epoch 42, loss: 2.120833\n",
      "Epoch 43, loss: 2.119656\n",
      "Epoch 44, loss: 2.118689\n",
      "Epoch 45, loss: 2.117502\n",
      "Epoch 46, loss: 2.116859\n",
      "Epoch 47, loss: 2.115994\n",
      "Epoch 48, loss: 2.115029\n",
      "Epoch 49, loss: 2.114203\n",
      "Epoch 50, loss: 2.112878\n",
      "Epoch 51, loss: 2.112406\n",
      "Epoch 52, loss: 2.111980\n",
      "Epoch 53, loss: 2.110868\n",
      "Epoch 54, loss: 2.110565\n",
      "Epoch 55, loss: 2.109582\n",
      "Epoch 56, loss: 2.109155\n",
      "Epoch 57, loss: 2.108080\n",
      "Epoch 58, loss: 2.107712\n",
      "Epoch 59, loss: 2.106969\n",
      "Epoch 60, loss: 2.106002\n",
      "Epoch 61, loss: 2.105458\n",
      "Epoch 62, loss: 2.105055\n",
      "Epoch 63, loss: 2.104294\n",
      "Epoch 64, loss: 2.104176\n",
      "Epoch 65, loss: 2.103564\n",
      "Epoch 66, loss: 2.102530\n",
      "Epoch 67, loss: 2.101812\n",
      "Epoch 68, loss: 2.101679\n",
      "Epoch 69, loss: 2.100779\n",
      "Epoch 70, loss: 2.100352\n",
      "Epoch 71, loss: 2.099876\n",
      "Epoch 72, loss: 2.099264\n",
      "Epoch 73, loss: 2.099014\n",
      "Epoch 74, loss: 2.098164\n",
      "Epoch 75, loss: 2.097536\n",
      "Epoch 76, loss: 2.096872\n",
      "Epoch 77, loss: 2.096413\n",
      "Epoch 78, loss: 2.096128\n",
      "Epoch 79, loss: 2.095451\n",
      "Epoch 80, loss: 2.095479\n",
      "Epoch 81, loss: 2.094281\n",
      "Epoch 82, loss: 2.094197\n",
      "Epoch 83, loss: 2.093906\n",
      "Epoch 84, loss: 2.093033\n",
      "Epoch 85, loss: 2.092026\n",
      "Epoch 86, loss: 2.092364\n",
      "Epoch 87, loss: 2.091579\n",
      "Epoch 88, loss: 2.090927\n",
      "Epoch 89, loss: 2.090662\n",
      "Epoch 90, loss: 2.090637\n",
      "Epoch 91, loss: 2.090091\n",
      "Epoch 92, loss: 2.089558\n",
      "Epoch 93, loss: 2.089276\n",
      "Epoch 94, loss: 2.088913\n",
      "Epoch 95, loss: 2.087910\n",
      "Epoch 96, loss: 2.088019\n",
      "Epoch 97, loss: 2.087047\n",
      "Epoch 98, loss: 2.087201\n",
      "Epoch 99, loss: 2.086199\n",
      "Accuracy after training for 100 epochs:  learning_rate: 0.01 reg_strengths 1e-06 -- 0.242\n"
     ]
    }
   ],
   "source": [
    "num_epochs = 100\n",
    "batch_s = 100\n",
    "\n",
    "learning_rates = [1e-2]#[1e-1, 1e-2, 1e-3, 1e-4, 1e-5]\n",
    "reg_strengths = [1e-4, 1e-5, 1e-6]\n",
    "\n",
    "best_classifier = None\n",
    "best_val_accuracy = None\n",
    "\n",
    "# TODO use validation set to find the best hyperparameters\n",
    "\n",
    "for l in learning_rates:\n",
    "    for r in reg_strengths:\n",
    "        classifier = linear_classifer.LinearSoftmaxClassifier()\n",
    "        loss_history = classifier.fit(train_X, train_y, epochs=num_epochs, learning_rate=l, batch_size=batch_s, reg=r)\n",
    "        #print(loss_history)\n",
    "        pred = classifier.predict(val_X)\n",
    "        accuracy = multiclass_accuracy(pred, val_y)\n",
    "        print(\"Accuracy after training for\", num_epochs, \"epochs: \", \"learning_rate:\", l, \"reg_strengths\", r, \"--\", accuracy)\n",
    "# hint: for best results, you might need to try more values for learning rate and regularization strength \n",
    "# than provided initially\n",
    "\n",
    "#print('best validation accuracy achieved: %f' % best_val_accuracy)"
   ]
  },
  {
   "cell_type": "code",
   "execution_count": 17,
   "metadata": {},
   "outputs": [
    {
     "name": "stdout",
     "output_type": "stream",
     "text": [
      "Epoch 0, loss: 2.294625\n",
      "Epoch 1, loss: 2.272508\n",
      "Epoch 2, loss: 2.254330\n",
      "Epoch 3, loss: 2.239690\n",
      "Epoch 4, loss: 2.227067\n",
      "Epoch 5, loss: 2.216475\n",
      "Epoch 6, loss: 2.207724\n",
      "Epoch 7, loss: 2.199589\n",
      "Epoch 8, loss: 2.193028\n",
      "Epoch 9, loss: 2.187295\n",
      "Epoch 10, loss: 2.181937\n",
      "Epoch 11, loss: 2.177311\n",
      "Epoch 12, loss: 2.172846\n",
      "Epoch 13, loss: 2.169515\n",
      "Epoch 14, loss: 2.166249\n",
      "Epoch 15, loss: 2.163245\n",
      "Epoch 16, loss: 2.160045\n",
      "Epoch 17, loss: 2.157013\n",
      "Epoch 18, loss: 2.154706\n",
      "Epoch 19, loss: 2.152355\n",
      "Epoch 20, loss: 2.150272\n",
      "Epoch 21, loss: 2.148393\n",
      "Epoch 22, loss: 2.146618\n",
      "Epoch 23, loss: 2.145013\n",
      "Epoch 24, loss: 2.142877\n",
      "Epoch 25, loss: 2.141132\n",
      "Epoch 26, loss: 2.139781\n",
      "Epoch 27, loss: 2.138155\n",
      "Epoch 28, loss: 2.136416\n",
      "Epoch 29, loss: 2.135209\n",
      "Epoch 30, loss: 2.133831\n",
      "Epoch 31, loss: 2.132183\n",
      "Epoch 32, loss: 2.131392\n",
      "Epoch 33, loss: 2.129904\n",
      "Epoch 34, loss: 2.129225\n",
      "Epoch 35, loss: 2.127286\n",
      "Epoch 36, loss: 2.126355\n",
      "Epoch 37, loss: 2.125404\n",
      "Epoch 38, loss: 2.123918\n",
      "Epoch 39, loss: 2.123400\n",
      "Epoch 40, loss: 2.122429\n",
      "Epoch 41, loss: 2.121516\n",
      "Epoch 42, loss: 2.120543\n",
      "Epoch 43, loss: 2.119597\n",
      "Epoch 44, loss: 2.118324\n",
      "Epoch 45, loss: 2.117513\n",
      "Epoch 46, loss: 2.117045\n",
      "Epoch 47, loss: 2.115620\n",
      "Epoch 48, loss: 2.114790\n",
      "Epoch 49, loss: 2.113884\n",
      "Epoch 50, loss: 2.112940\n",
      "Epoch 51, loss: 2.113290\n",
      "Epoch 52, loss: 2.111985\n",
      "Epoch 53, loss: 2.110785\n",
      "Epoch 54, loss: 2.110864\n",
      "Epoch 55, loss: 2.109827\n",
      "Epoch 56, loss: 2.109497\n",
      "Epoch 57, loss: 2.108470\n",
      "Epoch 58, loss: 2.107962\n",
      "Epoch 59, loss: 2.106987\n",
      "Epoch 60, loss: 2.106337\n",
      "Epoch 61, loss: 2.105610\n",
      "Epoch 62, loss: 2.104949\n",
      "Epoch 63, loss: 2.105076\n",
      "Epoch 64, loss: 2.103654\n",
      "Epoch 65, loss: 2.103567\n",
      "Epoch 66, loss: 2.102909\n",
      "Epoch 67, loss: 2.101959\n",
      "Epoch 68, loss: 2.101664\n",
      "Epoch 69, loss: 2.100931\n",
      "Epoch 70, loss: 2.100584\n",
      "Epoch 71, loss: 2.099909\n",
      "Epoch 72, loss: 2.099435\n",
      "Epoch 73, loss: 2.098483\n",
      "Epoch 74, loss: 2.098358\n",
      "Epoch 75, loss: 2.097819\n",
      "Epoch 76, loss: 2.097197\n",
      "Epoch 77, loss: 2.096549\n",
      "Epoch 78, loss: 2.096057\n",
      "Epoch 79, loss: 2.095707\n",
      "Epoch 80, loss: 2.095043\n",
      "Epoch 81, loss: 2.094245\n",
      "Epoch 82, loss: 2.094132\n",
      "Epoch 83, loss: 2.094146\n",
      "Epoch 84, loss: 2.093373\n",
      "Epoch 85, loss: 2.092925\n",
      "Epoch 86, loss: 2.092538\n",
      "Epoch 87, loss: 2.092169\n",
      "Epoch 88, loss: 2.091469\n",
      "Epoch 89, loss: 2.090782\n",
      "Epoch 90, loss: 2.090474\n",
      "Epoch 91, loss: 2.090132\n",
      "Epoch 92, loss: 2.089631\n",
      "Epoch 93, loss: 2.089149\n",
      "Epoch 94, loss: 2.088932\n",
      "Epoch 95, loss: 2.088382\n",
      "Epoch 96, loss: 2.087863\n",
      "Epoch 97, loss: 2.087702\n",
      "Epoch 98, loss: 2.087083\n",
      "Epoch 99, loss: 2.086953\n",
      "Accuracy after training for 100 epochs:  learning_rate: 0.01 reg_strengths 1e-05 -- 0.241\n"
     ]
    }
   ],
   "source": [
    "best_classifier = linear_classifer.LinearSoftmaxClassifier()\n",
    "loss_history = best_classifier.fit(train_X, train_y, epochs=num_epochs, learning_rate=1e-2, batch_size=batch_s, reg=1e-5)\n",
    "pred = best_classifier.predict(val_X)\n",
    "accuracy = multiclass_accuracy(pred, val_y)\n",
    "print(\"Accuracy after training for\", num_epochs, \"epochs: \", \"learning_rate:\", 1e-2, \"reg_strengths\", 1e-5, \"--\", accuracy)"
   ]
  },
  {
   "cell_type": "markdown",
   "metadata": {},
   "source": [
    "# Какой же точности мы добились на тестовых данных?"
   ]
  },
  {
   "cell_type": "code",
   "execution_count": 18,
   "metadata": {},
   "outputs": [
    {
     "name": "stdout",
     "output_type": "stream",
     "text": [
      "Linear softmax classifier test set accuracy: 0.202000\n"
     ]
    }
   ],
   "source": [
    "test_pred = best_classifier.predict(test_X)\n",
    "test_accuracy = multiclass_accuracy(test_pred, test_y)\n",
    "print('Linear softmax classifier test set accuracy: %f' % (test_accuracy, ))"
   ]
  },
  {
   "cell_type": "code",
   "execution_count": null,
   "metadata": {},
   "outputs": [],
   "source": []
  }
 ],
 "metadata": {
  "kernelspec": {
   "display_name": "Python 3",
   "language": "python",
   "name": "python3"
  },
  "language_info": {
   "codemirror_mode": {
    "name": "ipython",
    "version": 3
   },
   "file_extension": ".py",
   "mimetype": "text/x-python",
   "name": "python",
   "nbconvert_exporter": "python",
   "pygments_lexer": "ipython3",
   "version": "3.7.3rc1"
  }
 },
 "nbformat": 4,
 "nbformat_minor": 2
}
