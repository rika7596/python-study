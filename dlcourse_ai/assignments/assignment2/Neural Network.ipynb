{
 "cells": [
  {
   "cell_type": "markdown",
   "metadata": {},
   "source": [
    "# Задание 2.1 - Нейронные сети\n",
    "\n",
    "В этом задании вы реализуете и натренируете настоящую нейроную сеть своими руками!\n",
    "\n",
    "В некотором смысле это будет расширением прошлого задания - нам нужно просто составить несколько линейных классификаторов вместе!\n",
    "\n",
    "<img src=\"https://i.redd.it/n9fgba8b0qr01.png\" alt=\"Stack_more_layers\" width=\"400px\"/>"
   ]
  },
  {
   "cell_type": "code",
   "execution_count": 2,
   "metadata": {},
   "outputs": [],
   "source": [
    "import numpy as np\n",
    "import matplotlib.pyplot as plt\n",
    "\n",
    "%matplotlib inline\n",
    "\n",
    "%load_ext autoreload\n",
    "%autoreload 2"
   ]
  },
  {
   "cell_type": "code",
   "execution_count": 3,
   "metadata": {},
   "outputs": [],
   "source": [
    "from dataset import load_svhn, random_split_train_val\n",
    "from gradient_check import check_layer_gradient, check_layer_param_gradient, check_model_gradient\n",
    "from layers import FullyConnectedLayer, ReLULayer\n",
    "from model import TwoLayerNet\n",
    "from trainer import Trainer, Dataset\n",
    "from optim import SGD, MomentumSGD\n",
    "from metrics import multiclass_accuracy"
   ]
  },
  {
   "cell_type": "markdown",
   "metadata": {},
   "source": [
    "# Загружаем данные\n",
    "\n",
    "И разделяем их на training и validation."
   ]
  },
  {
   "cell_type": "code",
   "execution_count": 4,
   "metadata": {},
   "outputs": [],
   "source": [
    "def prepare_for_neural_network(train_X, test_X):\n",
    "    train_flat = train_X.reshape(train_X.shape[0], -1).astype(np.float) / 255.0\n",
    "    test_flat = test_X.reshape(test_X.shape[0], -1).astype(np.float) / 255.0\n",
    "    \n",
    "    # Subtract mean\n",
    "    mean_image = np.mean(train_flat, axis = 0)\n",
    "    train_flat -= mean_image\n",
    "    test_flat -= mean_image\n",
    "    \n",
    "    return train_flat, test_flat\n",
    "    \n",
    "train_X, train_y, test_X, test_y = load_svhn(\"data\", max_train=10000, max_test=1000)    \n",
    "train_X, test_X = prepare_for_neural_network(train_X, test_X)\n",
    "# Split train into train and val\n",
    "train_X, train_y, val_X, val_y = random_split_train_val(train_X, train_y, num_val = 1000)"
   ]
  },
  {
   "cell_type": "markdown",
   "metadata": {},
   "source": [
    "# Как всегда, начинаем с кирпичиков\n",
    "\n",
    "Мы будем реализовывать необходимые нам слои по очереди. Каждый слой должен реализовать:\n",
    "- прямой проход (forward pass), который генерирует выход слоя по входу и запоминает необходимые данные\n",
    "- обратный проход (backward pass), который получает градиент по выходу слоя и вычисляет градиент по входу и по параметрам\n",
    "\n",
    "Начнем с ReLU, у которого параметров нет."
   ]
  },
  {
   "cell_type": "code",
   "execution_count": 12,
   "metadata": {
    "scrolled": false
   },
   "outputs": [
    {
     "name": "stdout",
     "output_type": "stream",
     "text": [
      "Gradient check passed!\n"
     ]
    }
   ],
   "source": [
    "# TODO: Implement ReLULayer layer in layers.py\n",
    "# Note: you'll need to copy implementation of the gradient_check function from the previous assignment\n",
    "\n",
    "X = np.array([[1,-2,3],\n",
    "              [-1, 2, 0.1]\n",
    "              ])\n",
    "\n",
    "assert check_layer_gradient(ReLULayer(), X)"
   ]
  },
  {
   "cell_type": "markdown",
   "metadata": {},
   "source": [
    "А теперь реализуем полносвязный слой (fully connected layer), у которого будет два массива параметров: W (weights) и B (bias).\n",
    "\n",
    "Все параметры наши слои будут использовать для параметров специальный класс `Param`, в котором будут храниться значения параметров и градиенты этих параметров, вычисляемые во время обратного прохода.\n",
    "\n",
    "Это даст возможность аккумулировать (суммировать) градиенты из разных частей функции потерь, например, из cross-entropy loss и regularization loss."
   ]
  },
  {
   "cell_type": "code",
   "execution_count": 6,
   "metadata": {},
   "outputs": [
    {
     "name": "stdout",
     "output_type": "stream",
     "text": [
      "Gradient check passed!\n",
      "Gradient check passed!\n",
      "Gradient check passed!\n"
     ]
    }
   ],
   "source": [
    "# TODO: Implement FullyConnected layer forward and backward methods\n",
    "assert check_layer_gradient(FullyConnectedLayer(3, 4), X)\n",
    "# TODO: Implement storing gradients for W and B\n",
    "assert check_layer_param_gradient(FullyConnectedLayer(3, 4), X, 'W')\n",
    "assert check_layer_param_gradient(FullyConnectedLayer(3, 4), X, 'B')"
   ]
  },
  {
   "cell_type": "markdown",
   "metadata": {},
   "source": [
    "## Создаем нейронную сеть\n",
    "\n",
    "Теперь мы реализуем простейшую нейронную сеть с двумя полносвязным слоями и нелинейностью ReLU. Реализуйте функцию `compute_loss_and_gradients`, она должна запустить прямой и обратный проход через оба слоя для вычисления градиентов.\n",
    "\n",
    "Не забудьте реализовать очистку градиентов в начале функции."
   ]
  },
  {
   "cell_type": "code",
   "execution_count": 33,
   "metadata": {},
   "outputs": [
    {
     "name": "stdout",
     "output_type": "stream",
     "text": [
      "Checking gradient for W1\n",
      "Gradient check passed!\n",
      "Checking gradient for B1\n",
      "Gradient check passed!\n",
      "Checking gradient for W2\n",
      "Gradient check passed!\n",
      "Checking gradient for B2\n",
      "Gradient check passed!\n"
     ]
    },
    {
     "data": {
      "text/plain": [
       "True"
      ]
     },
     "execution_count": 33,
     "metadata": {},
     "output_type": "execute_result"
    }
   ],
   "source": [
    "# TODO: In model.py, implement compute_loss_and_gradients function\n",
    "model = TwoLayerNet(n_input = train_X.shape[1], n_output = 10, hidden_layer_size = 3, reg = 0)\n",
    "loss = model.compute_loss_and_gradients(train_X[:2], train_y[:2])\n",
    "\n",
    "# TODO Now implement backward pass and aggregate all of the params\n",
    "check_model_gradient(model, train_X[:2], train_y[:2])"
   ]
  },
  {
   "cell_type": "markdown",
   "metadata": {},
   "source": [
    "Теперь добавьте к модели регуляризацию - она должна прибавляться к loss и делать свой вклад в градиенты."
   ]
  },
  {
   "cell_type": "code",
   "execution_count": 43,
   "metadata": {},
   "outputs": [
    {
     "name": "stdout",
     "output_type": "stream",
     "text": [
      "Checking gradient for W1\n",
      "Gradient check passed!\n",
      "Checking gradient for B1\n",
      "Gradient check passed!\n",
      "Checking gradient for W2\n",
      "Gradient check passed!\n",
      "Checking gradient for B2\n",
      "Gradient check passed!\n"
     ]
    },
    {
     "data": {
      "text/plain": [
       "True"
      ]
     },
     "execution_count": 43,
     "metadata": {},
     "output_type": "execute_result"
    }
   ],
   "source": [
    "# TODO Now implement l2 regularization in the forward and backward pass\n",
    "model_with_reg = TwoLayerNet(n_input = train_X.shape[1], n_output = 10, hidden_layer_size = 3, reg = 1e1)\n",
    "loss_with_reg = model_with_reg.compute_loss_and_gradients(train_X[:2], train_y[:2])\n",
    "assert loss_with_reg > loss and not np.isclose(loss_with_reg, loss), \\\n",
    "    \"Loss with regularization (%2.4f) should be higher than without it (%2.4f)!\" % (loss, loss_with_reg)\n",
    "\n",
    "check_model_gradient(model_with_reg, train_X[:2], train_y[:2])"
   ]
  },
  {
   "cell_type": "markdown",
   "metadata": {},
   "source": [
    "Также реализуем функцию предсказания (вычисления значения) модели на новых данных.\n",
    "\n",
    "Какое значение точности мы ожидаем увидеть до начала тренировки?"
   ]
  },
  {
   "cell_type": "code",
   "execution_count": 48,
   "metadata": {},
   "outputs": [
    {
     "data": {
      "text/plain": [
       "0.03333333333333333"
      ]
     },
     "execution_count": 48,
     "metadata": {},
     "output_type": "execute_result"
    }
   ],
   "source": [
    "# Finally, implement predict function!\n",
    "\n",
    "# TODO: Implement predict function\n",
    "# What would be the value we expect?\n",
    "multiclass_accuracy(model_with_reg.predict(train_X[:30]), train_y[:30]) "
   ]
  },
  {
   "cell_type": "markdown",
   "metadata": {},
   "source": [
    "# Допишем код для процесса тренировки\n",
    "\n",
    "Если все реализовано корректно, значение функции ошибки должно уменьшаться с каждой эпохой, пусть и медленно. Не беспокойтесь пока про validation accuracy."
   ]
  },
  {
   "cell_type": "code",
   "execution_count": 54,
   "metadata": {},
   "outputs": [
    {
     "name": "stdout",
     "output_type": "stream",
     "text": [
      "Loss: 2.246632, Train accuracy: 0.196667, val accuracy: 0.206000\n",
      "Loss: 2.117500, Train accuracy: 0.196667, val accuracy: 0.206000\n",
      "Loss: 2.072445, Train accuracy: 0.196667, val accuracy: 0.206000\n",
      "Loss: 2.328050, Train accuracy: 0.196667, val accuracy: 0.206000\n",
      "Loss: 2.230199, Train accuracy: 0.196667, val accuracy: 0.206000\n",
      "Loss: 2.164401, Train accuracy: 0.196667, val accuracy: 0.206000\n",
      "Loss: 2.179622, Train accuracy: 0.196667, val accuracy: 0.206000\n",
      "Loss: 2.428201, Train accuracy: 0.196667, val accuracy: 0.206000\n",
      "Loss: 2.394538, Train accuracy: 0.207778, val accuracy: 0.214000\n",
      "Loss: 2.353004, Train accuracy: 0.233111, val accuracy: 0.237000\n",
      "Loss: 1.947303, Train accuracy: 0.251111, val accuracy: 0.251000\n",
      "Loss: 2.193316, Train accuracy: 0.271333, val accuracy: 0.271000\n",
      "Loss: 2.119370, Train accuracy: 0.287333, val accuracy: 0.294000\n",
      "Loss: 1.958857, Train accuracy: 0.319000, val accuracy: 0.325000\n",
      "Loss: 1.515307, Train accuracy: 0.343222, val accuracy: 0.343000\n",
      "Loss: 1.970052, Train accuracy: 0.375778, val accuracy: 0.368000\n",
      "Loss: 2.012824, Train accuracy: 0.409222, val accuracy: 0.404000\n",
      "Loss: 1.746624, Train accuracy: 0.436778, val accuracy: 0.430000\n",
      "Loss: 1.621009, Train accuracy: 0.456778, val accuracy: 0.456000\n",
      "Loss: 1.643429, Train accuracy: 0.482667, val accuracy: 0.479000\n"
     ]
    }
   ],
   "source": [
    "model = TwoLayerNet(n_input = train_X.shape[1], n_output = 10, hidden_layer_size = 100, reg = 1e-4)\n",
    "dataset = Dataset(train_X, train_y, val_X, val_y)\n",
    "trainer = Trainer(model, dataset, SGD(), learning_rate = 1e-2)\n",
    "\n",
    "# TODO Implement missing pieces in Trainer.fit function\n",
    "# You should expect loss to go down every epoch, even if it's slow\n",
    "loss_history, train_history, val_history = trainer.fit()"
   ]
  },
  {
   "cell_type": "code",
   "execution_count": 51,
   "metadata": {},
   "outputs": [
    {
     "data": {
      "text/plain": [
       "[<matplotlib.lines.Line2D at 0x7f78abbf4358>]"
      ]
     },
     "execution_count": 51,
     "metadata": {},
     "output_type": "execute_result"
    },
    {
     "data": {
      "image/png": "[encoded data removed]",
      "text/plain": [
       "<Figure size 432x288 with 1 Axes>"
      ]
     },
     "metadata": {
      "needs_background": "light"
     },
     "output_type": "display_data"
    }
   ],
   "source": [
    "plt.plot(train_history)\n",
    "plt.plot(val_history)"
   ]
  },
  {
   "cell_type": "markdown",
   "metadata": {},
   "source": [
    "# Улучшаем процесс тренировки\n",
    "\n",
    "Мы реализуем несколько ключевых оптимизаций, необходимых для тренировки современных нейросетей."
   ]
  },
  {
   "cell_type": "markdown",
   "metadata": {},
   "source": [
    "## Уменьшение скорости обучения (learning rate decay)\n",
    "\n",
    "Одна из необходимых оптимизаций во время тренировки нейронных сетей - постепенное уменьшение скорости обучения по мере тренировки.\n",
    "\n",
    "Один из стандартных методов - уменьшение скорости обучения (learning rate) каждые N эпох на коэффициент d (часто называемый decay). Значения N и d, как всегда, являются гиперпараметрами и должны подбираться на основе эффективности на проверочных данных (validation data). \n",
    "\n",
    "В нашем случае N будет равным 1."
   ]
  },
  {
   "cell_type": "code",
   "execution_count": 59,
   "metadata": {},
   "outputs": [
    {
     "name": "stdout",
     "output_type": "stream",
     "text": [
      "Loss: 2.314177, Train accuracy: 0.196667, val accuracy: 0.206000\n",
      "Loss: 2.243515, Train accuracy: 0.196667, val accuracy: 0.206000\n",
      "Loss: 2.252972, Train accuracy: 0.196667, val accuracy: 0.206000\n",
      "Loss: 2.238521, Train accuracy: 0.196667, val accuracy: 0.206000\n",
      "Loss: 2.235432, Train accuracy: 0.196667, val accuracy: 0.206000\n",
      "Loss: 2.260031, Train accuracy: 0.196667, val accuracy: 0.206000\n",
      "Loss: 2.158787, Train accuracy: 0.196667, val accuracy: 0.206000\n",
      "Loss: 2.433237, Train accuracy: 0.196667, val accuracy: 0.206000\n",
      "Loss: 2.005228, Train accuracy: 0.196778, val accuracy: 0.206000\n",
      "Loss: 2.190420, Train accuracy: 0.217444, val accuracy: 0.228000\n",
      "Loss: 2.285498, Train accuracy: 0.239333, val accuracy: 0.245000\n",
      "Loss: 1.945856, Train accuracy: 0.261556, val accuracy: 0.260000\n",
      "Loss: 1.975644, Train accuracy: 0.272333, val accuracy: 0.276000\n",
      "Loss: 1.879998, Train accuracy: 0.285667, val accuracy: 0.292000\n",
      "Loss: 1.949857, Train accuracy: 0.305556, val accuracy: 0.319000\n",
      "Loss: 1.686007, Train accuracy: 0.338222, val accuracy: 0.348000\n",
      "Loss: 1.849453, Train accuracy: 0.374778, val accuracy: 0.371000\n",
      "Loss: 1.764442, Train accuracy: 0.400444, val accuracy: 0.391000\n",
      "Loss: 1.477130, Train accuracy: 0.430444, val accuracy: 0.414000\n",
      "Loss: 1.779706, Train accuracy: 0.446000, val accuracy: 0.420000\n"
     ]
    }
   ],
   "source": [
    "# TODO Implement learning rate decay inside Trainer.fit method\n",
    "# Decay should happen once per epoch\n",
    "\n",
    "model = TwoLayerNet(n_input = train_X.shape[1], n_output = 10, hidden_layer_size = 100, reg = 1e-4)\n",
    "dataset = Dataset(train_X, train_y, val_X, val_y)\n",
    "trainer = Trainer(model, dataset, SGD(), learning_rate_decay=0.99)\n",
    "\n",
    "initial_learning_rate = trainer.learning_rate\n",
    "loss_history, train_history, val_history = trainer.fit()\n",
    "\n",
    "assert trainer.learning_rate < initial_learning_rate, \"Learning rate should've been reduced\"\n",
    "assert trainer.learning_rate > 0.5*initial_learning_rate, \"Learning rate shouldn'tve been reduced that much!\""
   ]
  },
  {
   "cell_type": "markdown",
   "metadata": {},
   "source": [
    "# Накопление импульса (Momentum SGD)\n",
    "\n",
    "Другой большой класс оптимизаций - использование более эффективных методов градиентного спуска. Мы реализуем один из них - накопление импульса (Momentum SGD).\n",
    "\n",
    "Этот метод хранит скорость движения, использует градиент для ее изменения на каждом шаге, и изменяет веса пропорционально значению скорости.\n",
    "(Физическая аналогия: Вместо скорости градиенты теперь будут задавать ускорение, но будет присутствовать сила трения.)\n",
    "\n",
    "```\n",
    "velocity = momentum * velocity - learning_rate * gradient \n",
    "w = w + velocity\n",
    "```\n",
    "\n",
    "`momentum` здесь коэффициент затухания, который тоже является гиперпараметром (к счастью, для него часто есть хорошее значение по умолчанию, типичный диапазон -- 0.8-0.99).\n",
    "\n",
    "Несколько полезных ссылок, где метод разбирается более подробно:  \n",
    "http://cs231n.github.io/neural-networks-3/#sgd  \n",
    "https://distill.pub/2017/momentum/"
   ]
  },
  {
   "cell_type": "code",
   "execution_count": 62,
   "metadata": {},
   "outputs": [
    {
     "name": "stdout",
     "output_type": "stream",
     "text": [
      "Loss: 2.357603, Train accuracy: 0.196667, val accuracy: 0.206000\n",
      "Loss: 2.338800, Train accuracy: 0.196667, val accuracy: 0.206000\n",
      "Loss: 2.350677, Train accuracy: 0.196667, val accuracy: 0.206000\n",
      "Loss: 2.334653, Train accuracy: 0.196667, val accuracy: 0.206000\n",
      "Loss: 2.334950, Train accuracy: 0.196667, val accuracy: 0.206000\n",
      "Loss: 2.337718, Train accuracy: 0.196667, val accuracy: 0.206000\n",
      "Loss: 2.331494, Train accuracy: 0.196667, val accuracy: 0.206000\n",
      "Loss: 2.263713, Train accuracy: 0.196667, val accuracy: 0.206000\n",
      "Loss: 2.318344, Train accuracy: 0.196667, val accuracy: 0.206000\n",
      "Loss: 2.303037, Train accuracy: 0.196667, val accuracy: 0.206000\n",
      "Loss: 2.336528, Train accuracy: 0.196667, val accuracy: 0.206000\n",
      "Loss: 2.316995, Train accuracy: 0.196667, val accuracy: 0.206000\n",
      "Loss: 2.294359, Train accuracy: 0.196667, val accuracy: 0.206000\n",
      "Loss: 2.286704, Train accuracy: 0.196667, val accuracy: 0.206000\n",
      "Loss: 2.329608, Train accuracy: 0.196667, val accuracy: 0.206000\n",
      "Loss: 2.339136, Train accuracy: 0.196667, val accuracy: 0.206000\n",
      "Loss: 2.367350, Train accuracy: 0.196667, val accuracy: 0.206000\n",
      "Loss: 2.280809, Train accuracy: 0.196667, val accuracy: 0.206000\n",
      "Loss: 2.332731, Train accuracy: 0.196667, val accuracy: 0.206000\n",
      "Loss: 2.324587, Train accuracy: 0.196667, val accuracy: 0.206000\n"
     ]
    }
   ],
   "source": [
    "# TODO: Implement MomentumSGD.update function in optim.py\n",
    "\n",
    "model = TwoLayerNet(n_input = train_X.shape[1], n_output = 10, hidden_layer_size = 100, reg = 1e-1)\n",
    "dataset = Dataset(train_X, train_y, val_X, val_y)\n",
    "trainer = Trainer(model, dataset, MomentumSGD(), learning_rate=1e-4, learning_rate_decay=0.99)\n",
    "\n",
    "# You should see even better results than before!\n",
    "loss_history, train_history, val_history = trainer.fit()"
   ]
  },
  {
   "cell_type": "markdown",
   "metadata": {},
   "source": [
    "# Ну что, давайте уже тренировать сеть!"
   ]
  },
  {
   "cell_type": "markdown",
   "metadata": {},
   "source": [
    "## Последний тест - переобучимся (overfit) на маленьком наборе данных\n",
    "\n",
    "Хороший способ проверить, все ли реализовано корректно - переобучить сеть на маленьком наборе данных.  \n",
    "Наша модель обладает достаточной мощностью, чтобы приблизить маленький набор данных идеально, поэтому мы ожидаем, что на нем мы быстро дойдем до 100% точности на тренировочном наборе. \n",
    "\n",
    "Если этого не происходит, то где-то была допущена ошибка!"
   ]
  },
  {
   "cell_type": "code",
   "execution_count": 79,
   "metadata": {},
   "outputs": [
    {
     "name": "stdout",
     "output_type": "stream",
     "text": [
      "Loss: 2.369255, Train accuracy: 0.200000, val accuracy: 0.133333\n",
      "Loss: 2.382888, Train accuracy: 0.200000, val accuracy: 0.133333\n",
      "Loss: 2.363594, Train accuracy: 0.200000, val accuracy: 0.133333\n",
      "Loss: 2.377775, Train accuracy: 0.200000, val accuracy: 0.133333\n",
      "Loss: 2.332133, Train accuracy: 0.200000, val accuracy: 0.133333\n",
      "Loss: 2.343493, Train accuracy: 0.200000, val accuracy: 0.133333\n",
      "Loss: 2.405668, Train accuracy: 0.200000, val accuracy: 0.133333\n",
      "Loss: 2.251714, Train accuracy: 0.200000, val accuracy: 0.133333\n",
      "Loss: 2.174072, Train accuracy: 0.333333, val accuracy: 0.066667\n",
      "Loss: 2.112179, Train accuracy: 0.400000, val accuracy: 0.000000\n",
      "Loss: 2.426835, Train accuracy: 0.400000, val accuracy: 0.000000\n",
      "Loss: 2.204818, Train accuracy: 0.400000, val accuracy: 0.000000\n",
      "Loss: 2.452554, Train accuracy: 0.400000, val accuracy: 0.000000\n",
      "Loss: 1.927691, Train accuracy: 0.333333, val accuracy: 0.000000\n",
      "Loss: 1.895987, Train accuracy: 0.333333, val accuracy: 0.000000\n",
      "Loss: 1.672102, Train accuracy: 0.333333, val accuracy: 0.000000\n",
      "Loss: 1.495951, Train accuracy: 0.333333, val accuracy: 0.000000\n",
      "Loss: 2.173716, Train accuracy: 0.400000, val accuracy: 0.000000\n",
      "Loss: 1.885465, Train accuracy: 0.400000, val accuracy: 0.000000\n",
      "Loss: 1.293356, Train accuracy: 0.400000, val accuracy: 0.000000\n",
      "Loss: 2.597092, Train accuracy: 0.400000, val accuracy: 0.000000\n",
      "Loss: 1.890411, Train accuracy: 0.400000, val accuracy: 0.000000\n",
      "Loss: 1.484595, Train accuracy: 0.400000, val accuracy: 0.000000\n",
      "Loss: 2.274328, Train accuracy: 0.466667, val accuracy: 0.066667\n",
      "Loss: 1.572968, Train accuracy: 0.400000, val accuracy: 0.000000\n",
      "Loss: 1.632655, Train accuracy: 0.466667, val accuracy: 0.000000\n",
      "Loss: 2.145739, Train accuracy: 0.533333, val accuracy: 0.066667\n",
      "Loss: 1.984777, Train accuracy: 0.466667, val accuracy: 0.066667\n",
      "Loss: 2.198971, Train accuracy: 0.466667, val accuracy: 0.066667\n",
      "Loss: 1.735391, Train accuracy: 0.533333, val accuracy: 0.066667\n",
      "Loss: 1.655423, Train accuracy: 0.533333, val accuracy: 0.066667\n",
      "Loss: 1.766254, Train accuracy: 0.600000, val accuracy: 0.000000\n",
      "Loss: 1.514249, Train accuracy: 0.533333, val accuracy: 0.066667\n",
      "Loss: 1.700165, Train accuracy: 0.666667, val accuracy: 0.066667\n",
      "Loss: 1.312636, Train accuracy: 0.666667, val accuracy: 0.066667\n",
      "Loss: 1.215488, Train accuracy: 0.666667, val accuracy: 0.000000\n",
      "Loss: 1.191492, Train accuracy: 0.666667, val accuracy: 0.066667\n",
      "Loss: 1.353735, Train accuracy: 0.666667, val accuracy: 0.066667\n",
      "Loss: 1.946043, Train accuracy: 0.666667, val accuracy: 0.066667\n",
      "Loss: 1.603456, Train accuracy: 0.666667, val accuracy: 0.066667\n",
      "Loss: 1.854660, Train accuracy: 0.733333, val accuracy: 0.066667\n",
      "Loss: 1.563939, Train accuracy: 0.666667, val accuracy: 0.133333\n",
      "Loss: 1.156129, Train accuracy: 0.600000, val accuracy: 0.066667\n",
      "Loss: 1.550915, Train accuracy: 0.600000, val accuracy: 0.000000\n",
      "Loss: 1.433108, Train accuracy: 0.666667, val accuracy: 0.066667\n",
      "Loss: 1.483532, Train accuracy: 0.666667, val accuracy: 0.066667\n",
      "Loss: 1.530164, Train accuracy: 0.733333, val accuracy: 0.133333\n",
      "Loss: 1.559101, Train accuracy: 0.666667, val accuracy: 0.133333\n",
      "Loss: 1.567195, Train accuracy: 0.733333, val accuracy: 0.133333\n",
      "Loss: 1.432399, Train accuracy: 0.733333, val accuracy: 0.000000\n",
      "Loss: 1.364731, Train accuracy: 0.733333, val accuracy: 0.066667\n",
      "Loss: 1.340648, Train accuracy: 0.733333, val accuracy: 0.066667\n",
      "Loss: 1.357840, Train accuracy: 0.733333, val accuracy: 0.066667\n",
      "Loss: 1.497547, Train accuracy: 0.733333, val accuracy: 0.066667\n",
      "Loss: 0.905535, Train accuracy: 0.733333, val accuracy: 0.066667\n",
      "Loss: 1.055608, Train accuracy: 0.733333, val accuracy: 0.066667\n",
      "Loss: 1.521069, Train accuracy: 0.733333, val accuracy: 0.066667\n",
      "Loss: 0.928990, Train accuracy: 0.733333, val accuracy: 0.066667\n",
      "Loss: 1.114077, Train accuracy: 0.733333, val accuracy: 0.066667\n",
      "Loss: 1.182073, Train accuracy: 0.733333, val accuracy: 0.066667\n",
      "Loss: 1.023227, Train accuracy: 0.733333, val accuracy: 0.066667\n",
      "Loss: 1.557051, Train accuracy: 0.733333, val accuracy: 0.066667\n",
      "Loss: 1.185718, Train accuracy: 0.733333, val accuracy: 0.066667\n",
      "Loss: 0.808782, Train accuracy: 0.733333, val accuracy: 0.066667\n",
      "Loss: 1.592117, Train accuracy: 0.733333, val accuracy: 0.066667\n",
      "Loss: 0.934379, Train accuracy: 0.800000, val accuracy: 0.066667\n",
      "Loss: 1.790100, Train accuracy: 0.800000, val accuracy: 0.066667\n",
      "Loss: 0.958180, Train accuracy: 0.800000, val accuracy: 0.066667\n",
      "Loss: 1.366354, Train accuracy: 0.800000, val accuracy: 0.066667\n",
      "Loss: 0.710449, Train accuracy: 0.800000, val accuracy: 0.066667\n",
      "Loss: 1.405541, Train accuracy: 0.800000, val accuracy: 0.066667\n",
      "Loss: 1.412452, Train accuracy: 0.800000, val accuracy: 0.066667\n",
      "Loss: 1.054010, Train accuracy: 0.866667, val accuracy: 0.066667\n",
      "Loss: 1.398342, Train accuracy: 0.800000, val accuracy: 0.066667\n",
      "Loss: 1.009836, Train accuracy: 0.800000, val accuracy: 0.066667\n",
      "Loss: 0.945968, Train accuracy: 0.800000, val accuracy: 0.066667\n",
      "Loss: 1.330000, Train accuracy: 0.866667, val accuracy: 0.066667\n",
      "Loss: 1.139697, Train accuracy: 0.866667, val accuracy: 0.066667\n",
      "Loss: 1.115487, Train accuracy: 0.866667, val accuracy: 0.066667\n",
      "Loss: 1.631404, Train accuracy: 0.866667, val accuracy: 0.066667\n",
      "Loss: 1.262103, Train accuracy: 0.866667, val accuracy: 0.066667\n",
      "Loss: 1.181181, Train accuracy: 0.866667, val accuracy: 0.066667\n",
      "Loss: 1.054442, Train accuracy: 0.866667, val accuracy: 0.066667\n",
      "Loss: 1.348638, Train accuracy: 0.866667, val accuracy: 0.066667\n",
      "Loss: 1.265160, Train accuracy: 0.866667, val accuracy: 0.066667\n",
      "Loss: 0.999768, Train accuracy: 0.866667, val accuracy: 0.066667\n",
      "Loss: 1.295450, Train accuracy: 0.866667, val accuracy: 0.000000\n",
      "Loss: 0.808996, Train accuracy: 0.866667, val accuracy: 0.066667\n",
      "Loss: 1.270274, Train accuracy: 0.866667, val accuracy: 0.066667\n",
      "Loss: 0.997020, Train accuracy: 0.866667, val accuracy: 0.066667\n",
      "Loss: 0.774229, Train accuracy: 0.866667, val accuracy: 0.000000\n",
      "Loss: 1.481290, Train accuracy: 0.866667, val accuracy: 0.000000\n",
      "Loss: 1.486942, Train accuracy: 0.933333, val accuracy: 0.000000\n",
      "Loss: 1.473989, Train accuracy: 0.933333, val accuracy: 0.000000\n",
      "Loss: 1.020914, Train accuracy: 0.933333, val accuracy: 0.000000\n",
      "Loss: 1.304108, Train accuracy: 0.933333, val accuracy: 0.000000\n",
      "Loss: 1.220837, Train accuracy: 0.933333, val accuracy: 0.000000\n",
      "Loss: 1.268470, Train accuracy: 0.933333, val accuracy: 0.000000\n",
      "Loss: 0.957437, Train accuracy: 1.000000, val accuracy: 0.000000\n",
      "Loss: 0.685527, Train accuracy: 0.933333, val accuracy: 0.000000\n",
      "Loss: 1.411909, Train accuracy: 1.000000, val accuracy: 0.000000\n",
      "Loss: 1.010482, Train accuracy: 1.000000, val accuracy: 0.000000\n",
      "Loss: 1.165487, Train accuracy: 1.000000, val accuracy: 0.000000\n",
      "Loss: 0.950314, Train accuracy: 1.000000, val accuracy: 0.000000\n",
      "Loss: 1.063907, Train accuracy: 0.933333, val accuracy: 0.000000\n",
      "Loss: 0.847004, Train accuracy: 1.000000, val accuracy: 0.000000\n",
      "Loss: 1.101126, Train accuracy: 1.000000, val accuracy: 0.000000\n",
      "Loss: 1.123179, Train accuracy: 1.000000, val accuracy: 0.000000\n",
      "Loss: 1.317326, Train accuracy: 1.000000, val accuracy: 0.000000\n",
      "Loss: 1.138464, Train accuracy: 1.000000, val accuracy: 0.000000\n",
      "Loss: 0.932511, Train accuracy: 0.933333, val accuracy: 0.000000\n",
      "Loss: 1.214754, Train accuracy: 1.000000, val accuracy: 0.000000\n",
      "Loss: 1.132439, Train accuracy: 1.000000, val accuracy: 0.000000\n",
      "Loss: 1.238588, Train accuracy: 1.000000, val accuracy: 0.000000\n",
      "Loss: 1.055685, Train accuracy: 1.000000, val accuracy: 0.000000\n",
      "Loss: 1.019922, Train accuracy: 1.000000, val accuracy: 0.000000\n",
      "Loss: 0.748677, Train accuracy: 1.000000, val accuracy: 0.000000\n",
      "Loss: 0.717514, Train accuracy: 1.000000, val accuracy: 0.000000\n",
      "Loss: 0.673684, Train accuracy: 1.000000, val accuracy: 0.000000\n",
      "Loss: 1.025956, Train accuracy: 1.000000, val accuracy: 0.000000\n",
      "Loss: 0.868842, Train accuracy: 1.000000, val accuracy: 0.000000\n",
      "Loss: 1.027486, Train accuracy: 1.000000, val accuracy: 0.000000\n",
      "Loss: 1.139679, Train accuracy: 1.000000, val accuracy: 0.000000\n",
      "Loss: 1.212306, Train accuracy: 1.000000, val accuracy: 0.000000\n",
      "Loss: 1.084070, Train accuracy: 1.000000, val accuracy: 0.000000\n",
      "Loss: 1.259941, Train accuracy: 1.000000, val accuracy: 0.000000\n",
      "Loss: 1.134698, Train accuracy: 1.000000, val accuracy: 0.000000\n",
      "Loss: 0.837366, Train accuracy: 1.000000, val accuracy: 0.000000\n",
      "Loss: 0.808468, Train accuracy: 1.000000, val accuracy: 0.000000\n",
      "Loss: 1.176667, Train accuracy: 1.000000, val accuracy: 0.000000\n",
      "Loss: 0.931214, Train accuracy: 1.000000, val accuracy: 0.000000\n",
      "Loss: 1.000516, Train accuracy: 1.000000, val accuracy: 0.000000\n",
      "Loss: 0.879968, Train accuracy: 1.000000, val accuracy: 0.000000\n",
      "Loss: 0.791399, Train accuracy: 1.000000, val accuracy: 0.000000\n"
     ]
    },
    {
     "name": "stdout",
     "output_type": "stream",
     "text": [
      "Loss: 0.975375, Train accuracy: 1.000000, val accuracy: 0.000000\n",
      "Loss: 0.817492, Train accuracy: 1.000000, val accuracy: 0.000000\n",
      "Loss: 1.180109, Train accuracy: 1.000000, val accuracy: 0.000000\n",
      "Loss: 0.906299, Train accuracy: 1.000000, val accuracy: 0.000000\n",
      "Loss: 0.947227, Train accuracy: 1.000000, val accuracy: 0.000000\n",
      "Loss: 1.001864, Train accuracy: 1.000000, val accuracy: 0.000000\n",
      "Loss: 1.082638, Train accuracy: 1.000000, val accuracy: 0.000000\n",
      "Loss: 1.100855, Train accuracy: 1.000000, val accuracy: 0.000000\n",
      "Loss: 1.040044, Train accuracy: 1.000000, val accuracy: 0.000000\n",
      "Loss: 1.041408, Train accuracy: 1.000000, val accuracy: 0.000000\n",
      "Loss: 1.234825, Train accuracy: 1.000000, val accuracy: 0.000000\n",
      "Loss: 1.048477, Train accuracy: 1.000000, val accuracy: 0.000000\n",
      "Loss: 1.043717, Train accuracy: 1.000000, val accuracy: 0.000000\n",
      "Loss: 0.897724, Train accuracy: 1.000000, val accuracy: 0.000000\n",
      "Loss: 1.065914, Train accuracy: 1.000000, val accuracy: 0.000000\n",
      "Loss: 1.082831, Train accuracy: 1.000000, val accuracy: 0.000000\n"
     ]
    }
   ],
   "source": [
    "data_size = 15\n",
    "model = TwoLayerNet(n_input = train_X.shape[1], n_output = 10, hidden_layer_size = 100, reg = 1e-1)\n",
    "dataset = Dataset(train_X[:data_size], train_y[:data_size], val_X[:data_size], val_y[:data_size])\n",
    "trainer = Trainer(model, dataset, SGD(), learning_rate=1e-1, num_epochs=150, batch_size=5)\n",
    "\n",
    "# You should expect this to reach 1.0 training accuracy \n",
    "loss_history, train_history, val_history = trainer.fit()"
   ]
  },
  {
   "cell_type": "markdown",
   "metadata": {},
   "source": [
    "Теперь найдем гипепараметры, для которых этот процесс сходится быстрее.\n",
    "Если все реализовано корректно, то существуют параметры, при которых процесс сходится в **20** эпох или еще быстрее.\n",
    "Найдите их!"
   ]
  },
  {
   "cell_type": "code",
   "execution_count": 119,
   "metadata": {},
   "outputs": [
    {
     "name": "stdout",
     "output_type": "stream",
     "text": [
      "Loss: 2.302252, Train accuracy: 0.200000, val accuracy: 0.133333\n",
      "Loss: 2.286720, Train accuracy: 0.200000, val accuracy: 0.133333\n",
      "Loss: 2.258470, Train accuracy: 0.200000, val accuracy: 0.133333\n",
      "Loss: 2.215336, Train accuracy: 0.266667, val accuracy: 0.000000\n",
      "Loss: 2.132360, Train accuracy: 0.400000, val accuracy: 0.000000\n",
      "Loss: 1.936603, Train accuracy: 0.400000, val accuracy: 0.000000\n",
      "Loss: 1.748990, Train accuracy: 0.400000, val accuracy: 0.000000\n",
      "Loss: 1.566332, Train accuracy: 0.533333, val accuracy: 0.000000\n",
      "Loss: 1.440141, Train accuracy: 0.400000, val accuracy: 0.133333\n",
      "Loss: 1.738971, Train accuracy: 0.666667, val accuracy: 0.000000\n",
      "Loss: 1.160956, Train accuracy: 0.600000, val accuracy: 0.000000\n",
      "Loss: 1.136328, Train accuracy: 0.600000, val accuracy: 0.000000\n",
      "Loss: 0.872885, Train accuracy: 0.666667, val accuracy: 0.066667\n",
      "Loss: 0.751899, Train accuracy: 0.733333, val accuracy: 0.066667\n",
      "Loss: 0.546613, Train accuracy: 0.800000, val accuracy: 0.066667\n",
      "Loss: 0.379538, Train accuracy: 0.933333, val accuracy: 0.000000\n",
      "Loss: 0.246302, Train accuracy: 1.000000, val accuracy: 0.000000\n",
      "Loss: 0.105446, Train accuracy: 1.000000, val accuracy: 0.000000\n",
      "Loss: 0.031383, Train accuracy: 1.000000, val accuracy: 0.000000\n",
      "Loss: 0.011072, Train accuracy: 1.000000, val accuracy: 0.000000\n"
     ]
    }
   ],
   "source": [
    "# Now, tweak some hyper parameters and make it train to 1.0 accuracy in 20 epochs or less\n",
    "l = 4e-1\n",
    "b_s = 15\n",
    "decay = 0.99\n",
    "\n",
    "model = TwoLayerNet(n_input = train_X.shape[1], n_output = 10, hidden_layer_size = 200, reg = 0)\n",
    "dataset = Dataset(train_X[:data_size], train_y[:data_size], val_X[:data_size], val_y[:data_size])\n",
    "# TODO: Change any hyperparamers or optimizators to reach training accuracy in 20 epochs\n",
    "trainer = Trainer(model, dataset, MomentumSGD(), learning_rate=l, num_epochs=20, batch_size=b_s, learning_rate_decay=decay)\n",
    "\n",
    "loss_history, train_history, val_history = trainer.fit()"
   ]
  },
  {
   "cell_type": "markdown",
   "metadata": {},
   "source": [
    "# Итак, основное мероприятие!\n",
    "\n",
    "Натренируйте лучшую нейросеть! Можно добавлять и изменять параметры, менять количество нейронов в слоях сети и как угодно экспериментировать. \n",
    "\n",
    "Добейтесь точности лучше **40%** на validation set."
   ]
  },
  {
   "cell_type": "code",
   "execution_count": 125,
   "metadata": {
    "scrolled": true
   },
   "outputs": [
    {
     "name": "stdout",
     "output_type": "stream",
     "text": [
      "Loss: 1.797184, Train accuracy: 0.354889, val accuracy: 0.361000\n",
      "Loss: 2.045205, Train accuracy: 0.532556, val accuracy: 0.518000\n",
      "Loss: 1.379424, Train accuracy: 0.601333, val accuracy: 0.569000\n",
      "Loss: 0.856089, Train accuracy: 0.643556, val accuracy: 0.621000\n",
      "Loss: 1.721760, Train accuracy: 0.694111, val accuracy: 0.641000\n",
      "Loss: 1.269317, Train accuracy: 0.712111, val accuracy: 0.657000\n",
      "Loss: 1.061133, Train accuracy: 0.709000, val accuracy: 0.648000\n",
      "Loss: 0.861098, Train accuracy: 0.721000, val accuracy: 0.676000\n",
      "Loss: 2.216020, Train accuracy: 0.736222, val accuracy: 0.672000\n",
      "Loss: 0.605920, Train accuracy: 0.753556, val accuracy: 0.691000\n",
      "Loss: 1.043189, Train accuracy: 0.751444, val accuracy: 0.674000\n",
      "Loss: 1.545365, Train accuracy: 0.735111, val accuracy: 0.668000\n",
      "Loss: 1.402420, Train accuracy: 0.776889, val accuracy: 0.693000\n",
      "Loss: 0.551882, Train accuracy: 0.764111, val accuracy: 0.684000\n",
      "Loss: 0.750686, Train accuracy: 0.745889, val accuracy: 0.647000\n",
      "Loss: 1.095368, Train accuracy: 0.799333, val accuracy: 0.693000\n",
      "Loss: 0.700727, Train accuracy: 0.812333, val accuracy: 0.698000\n",
      "Loss: 0.493159, Train accuracy: 0.814889, val accuracy: 0.689000\n",
      "Loss: 0.576844, Train accuracy: 0.779667, val accuracy: 0.681000\n",
      "Loss: 0.732486, Train accuracy: 0.833778, val accuracy: 0.711000\n",
      "Loss: 0.441825, Train accuracy: 0.834556, val accuracy: 0.702000\n",
      "Loss: 1.284206, Train accuracy: 0.860778, val accuracy: 0.723000\n",
      "Loss: 0.752332, Train accuracy: 0.838333, val accuracy: 0.704000\n",
      "Loss: 0.349923, Train accuracy: 0.850444, val accuracy: 0.706000\n",
      "Loss: 0.626412, Train accuracy: 0.857889, val accuracy: 0.714000\n",
      "Loss: 0.798713, Train accuracy: 0.830778, val accuracy: 0.695000\n",
      "Loss: 0.837476, Train accuracy: 0.885667, val accuracy: 0.737000\n",
      "Loss: 0.375670, Train accuracy: 0.859111, val accuracy: 0.727000\n",
      "Loss: 0.698684, Train accuracy: 0.855000, val accuracy: 0.717000\n",
      "Loss: 0.497846, Train accuracy: 0.879333, val accuracy: 0.733000\n",
      "Loss: 0.971656, Train accuracy: 0.883333, val accuracy: 0.727000\n",
      "Loss: 0.518908, Train accuracy: 0.891000, val accuracy: 0.744000\n",
      "Loss: 0.214588, Train accuracy: 0.892222, val accuracy: 0.738000\n",
      "Loss: 0.220483, Train accuracy: 0.874667, val accuracy: 0.704000\n",
      "Loss: 0.430648, Train accuracy: 0.879444, val accuracy: 0.738000\n",
      "Loss: 0.303007, Train accuracy: 0.921333, val accuracy: 0.735000\n",
      "Loss: 0.417434, Train accuracy: 0.909111, val accuracy: 0.746000\n",
      "Loss: 0.231624, Train accuracy: 0.910222, val accuracy: 0.724000\n",
      "Loss: 0.369209, Train accuracy: 0.928667, val accuracy: 0.743000\n",
      "Loss: 0.296139, Train accuracy: 0.905556, val accuracy: 0.731000\n",
      "Loss: 0.134445, Train accuracy: 0.901556, val accuracy: 0.733000\n",
      "Loss: 0.291577, Train accuracy: 0.918556, val accuracy: 0.723000\n",
      "Loss: 0.476307, Train accuracy: 0.920000, val accuracy: 0.729000\n",
      "Loss: 0.193965, Train accuracy: 0.934333, val accuracy: 0.740000\n",
      "Loss: 0.185946, Train accuracy: 0.940667, val accuracy: 0.737000\n",
      "Loss: 0.221159, Train accuracy: 0.941222, val accuracy: 0.730000\n",
      "Loss: 0.567722, Train accuracy: 0.945556, val accuracy: 0.738000\n",
      "Loss: 0.297115, Train accuracy: 0.902778, val accuracy: 0.737000\n",
      "Loss: 0.259357, Train accuracy: 0.950111, val accuracy: 0.739000\n",
      "Loss: 0.231488, Train accuracy: 0.954333, val accuracy: 0.746000\n",
      "Loss: 0.376594, Train accuracy: 0.947000, val accuracy: 0.733000\n",
      "Loss: 0.092619, Train accuracy: 0.938556, val accuracy: 0.741000\n",
      "Loss: 0.546116, Train accuracy: 0.952778, val accuracy: 0.763000\n",
      "Loss: 0.143928, Train accuracy: 0.951556, val accuracy: 0.742000\n",
      "Loss: 0.035945, Train accuracy: 0.944333, val accuracy: 0.730000\n",
      "Loss: 0.140481, Train accuracy: 0.931222, val accuracy: 0.735000\n",
      "Loss: 0.048044, Train accuracy: 0.957111, val accuracy: 0.746000\n",
      "Loss: 0.075847, Train accuracy: 0.968556, val accuracy: 0.749000\n",
      "Loss: 0.048359, Train accuracy: 0.964222, val accuracy: 0.751000\n",
      "Loss: 0.124328, Train accuracy: 0.968667, val accuracy: 0.749000\n",
      "Loss: 0.280056, Train accuracy: 0.966222, val accuracy: 0.764000\n",
      "Loss: 0.065429, Train accuracy: 0.967889, val accuracy: 0.761000\n",
      "Loss: 0.063839, Train accuracy: 0.970333, val accuracy: 0.755000\n",
      "Loss: 0.259505, Train accuracy: 0.969444, val accuracy: 0.750000\n",
      "Loss: 0.259172, Train accuracy: 0.948000, val accuracy: 0.735000\n",
      "Loss: 0.120230, Train accuracy: 0.973778, val accuracy: 0.749000\n",
      "Loss: 0.018470, Train accuracy: 0.965222, val accuracy: 0.746000\n",
      "Loss: 0.107102, Train accuracy: 0.975333, val accuracy: 0.760000\n",
      "Loss: 0.150196, Train accuracy: 0.984111, val accuracy: 0.759000\n",
      "Loss: 0.141654, Train accuracy: 0.980556, val accuracy: 0.745000\n",
      "Loss: 0.139355, Train accuracy: 0.973889, val accuracy: 0.741000\n",
      "Loss: 0.028129, Train accuracy: 0.982000, val accuracy: 0.749000\n",
      "Loss: 0.021658, Train accuracy: 0.982111, val accuracy: 0.753000\n",
      "Loss: 0.073234, Train accuracy: 0.973444, val accuracy: 0.766000\n",
      "Loss: 0.094870, Train accuracy: 0.978889, val accuracy: 0.756000\n",
      "Loss: 0.050755, Train accuracy: 0.982556, val accuracy: 0.753000\n",
      "Loss: 0.023161, Train accuracy: 0.980000, val accuracy: 0.754000\n",
      "Loss: 0.248011, Train accuracy: 0.987444, val accuracy: 0.767000\n",
      "Loss: 0.052943, Train accuracy: 0.990333, val accuracy: 0.751000\n",
      "Loss: 0.012573, Train accuracy: 0.989222, val accuracy: 0.754000\n",
      "Loss: 0.107844, Train accuracy: 0.995556, val accuracy: 0.758000\n",
      "Loss: 0.035232, Train accuracy: 0.988889, val accuracy: 0.752000\n",
      "Loss: 0.110851, Train accuracy: 0.989000, val accuracy: 0.755000\n",
      "Loss: 0.032923, Train accuracy: 0.994778, val accuracy: 0.759000\n",
      "Loss: 0.064846, Train accuracy: 0.985111, val accuracy: 0.755000\n",
      "Loss: 0.019110, Train accuracy: 0.991778, val accuracy: 0.753000\n",
      "Loss: 0.009343, Train accuracy: 0.997556, val accuracy: 0.764000\n",
      "Loss: 0.016274, Train accuracy: 0.998111, val accuracy: 0.762000\n",
      "Loss: 0.017636, Train accuracy: 0.997556, val accuracy: 0.765000\n",
      "Loss: 0.071749, Train accuracy: 0.997111, val accuracy: 0.757000\n",
      "Loss: 0.038240, Train accuracy: 0.998333, val accuracy: 0.763000\n",
      "Loss: 0.014108, Train accuracy: 0.997556, val accuracy: 0.763000\n",
      "Loss: 0.008681, Train accuracy: 0.998111, val accuracy: 0.757000\n",
      "Loss: 0.042331, Train accuracy: 0.997778, val accuracy: 0.754000\n",
      "Loss: 0.011047, Train accuracy: 0.998889, val accuracy: 0.762000\n",
      "Loss: 0.012178, Train accuracy: 0.999444, val accuracy: 0.760000\n",
      "Loss: 0.013947, Train accuracy: 0.996111, val accuracy: 0.763000\n",
      "Loss: 0.004015, Train accuracy: 0.999111, val accuracy: 0.763000\n",
      "Loss: 0.011568, Train accuracy: 0.999667, val accuracy: 0.764000\n",
      "Loss: 0.012256, Train accuracy: 0.999889, val accuracy: 0.764000\n"
     ]
    }
   ],
   "source": [
    "# Let's train the best one-hidden-layer network we can\n",
    "\n",
    "l = 1e-1\n",
    "reg_strength = 1e-5\n",
    "learning_rate_decay = 0.999\n",
    "hidden_layer_s = 128\n",
    "n_epochs = 100\n",
    "b_s = 64\n",
    "\n",
    "best_classifier = None\n",
    "best_val_accuracy = None\n",
    "\n",
    "loss_history = []\n",
    "train_history = []\n",
    "val_history = []\n",
    "\n",
    "# TODO find the best hyperparameters to train the network\n",
    "model = TwoLayerNet(n_input = train_X.shape[1], n_output = 10, hidden_layer_size = hidden_layer_s, reg = reg_strength)\n",
    "dataset = Dataset(train_X[:], train_y[:], val_X[:], val_y[:])\n",
    "trainer = Trainer(model, dataset, MomentumSGD(), learning_rate=l, num_epochs=n_epochs, batch_size=b_s, learning_rate_decay=decay)\n",
    "\n",
    "loss_history, train_history, val_history = trainer.fit()\n",
    "\n",
    "# Don't hesitate to add new values to the arrays above, perform experiments, use any tricks you want\n",
    "# You should expect to get to at least 40% of valudation accuracy\n",
    "# Save loss/train/history of the best classifier to the variables above\n",
    "\n",
    "#print('best validation accuracy achieved: %f' % best_val_accuracy)"
   ]
  },
  {
   "cell_type": "code",
   "execution_count": 126,
   "metadata": {},
   "outputs": [
    {
     "data": {
      "text/plain": [
       "[<matplotlib.lines.Line2D at 0x7f78500d2e80>]"
      ]
     },
     "execution_count": 126,
     "metadata": {},
     "output_type": "execute_result"
    },
    {
     "data": {
      "image/png": "[encoded data removed]",
      "text/plain": [
       "<Figure size 1080x504 with 2 Axes>"
      ]
     },
     "metadata": {
      "needs_background": "light"
     },
     "output_type": "display_data"
    }
   ],
   "source": [
    "plt.figure(figsize=(15, 7))\n",
    "plt.subplot(211)\n",
    "plt.title(\"Loss\")\n",
    "plt.plot(loss_history)\n",
    "plt.subplot(212)\n",
    "plt.title(\"Train/validation accuracy\")\n",
    "plt.plot(train_history)\n",
    "plt.plot(val_history)"
   ]
  },
  {
   "cell_type": "markdown",
   "metadata": {},
   "source": [
    "# Как обычно, посмотрим, как наша лучшая модель работает на тестовых данных"
   ]
  },
  {
   "cell_type": "code",
   "execution_count": 127,
   "metadata": {},
   "outputs": [
    {
     "name": "stdout",
     "output_type": "stream",
     "text": [
      "Neural net test set accuracy: 0.740000\n"
     ]
    }
   ],
   "source": [
    "test_pred = model.predict(test_X)\n",
    "test_accuracy = multiclass_accuracy(test_pred, test_y)\n",
    "print('Neural net test set accuracy: %f' % (test_accuracy, ))"
   ]
  },
  {
   "cell_type": "code",
   "execution_count": null,
   "metadata": {},
   "outputs": [],
   "source": []
  }
 ],
 "metadata": {
  "kernelspec": {
   "display_name": "Python 3",
   "language": "python",
   "name": "python3"
  },
  "language_info": {
   "codemirror_mode": {
    "name": "ipython",
    "version": 3
   },
   "file_extension": ".py",
   "mimetype": "text/x-python",
   "name": "python",
   "nbconvert_exporter": "python",
   "pygments_lexer": "ipython3",
   "version": "3.7.3rc1"
  }
 },
 "nbformat": 4,
 "nbformat_minor": 2
}
