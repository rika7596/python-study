{
 "cells": [
  {
   "cell_type": "markdown",
   "metadata": {},
   "source": [
    "# Задание 2.1 - Нейронные сети\n",
    "\n",
    "В этом задании вы реализуете и натренируете настоящую нейроную сеть своими руками!\n",
    "\n",
    "В некотором смысле это будет расширением прошлого задания - нам нужно просто составить несколько линейных классификаторов вместе!\n",
    "\n",
    "<img src=\"https://i.redd.it/n9fgba8b0qr01.png\" alt=\"Stack_more_layers\" width=\"400px\"/>"
   ]
  },
  {
   "cell_type": "code",
   "execution_count": 2,
   "metadata": {},
   "outputs": [],
   "source": [
    "import numpy as np\n",
    "import matplotlib.pyplot as plt\n",
    "\n",
    "%matplotlib inline\n",
    "\n",
    "%load_ext autoreload\n",
    "%autoreload 2"
   ]
  },
  {
   "cell_type": "code",
   "execution_count": 3,
   "metadata": {},
   "outputs": [],
   "source": [
    "from dataset import load_svhn, random_split_train_val\n",
    "from gradient_check import check_layer_gradient, check_layer_param_gradient, check_model_gradient\n",
    "from layers import FullyConnectedLayer, ReLULayer\n",
    "from model import TwoLayerNet\n",
    "from trainer import Trainer, Dataset\n",
    "from optim import SGD, MomentumSGD\n",
    "from metrics import multiclass_accuracy"
   ]
  },
  {
   "cell_type": "markdown",
   "metadata": {},
   "source": [
    "# Загружаем данные\n",
    "\n",
    "И разделяем их на training и validation."
   ]
  },
  {
   "cell_type": "code",
   "execution_count": 4,
   "metadata": {},
   "outputs": [],
   "source": [
    "def prepare_for_neural_network(train_X, test_X):\n",
    "    train_flat = train_X.reshape(train_X.shape[0], -1).astype(np.float) / 255.0\n",
    "    test_flat = test_X.reshape(test_X.shape[0], -1).astype(np.float) / 255.0\n",
    "    \n",
    "    # Subtract mean\n",
    "    mean_image = np.mean(train_flat, axis = 0)\n",
    "    train_flat -= mean_image\n",
    "    test_flat -= mean_image\n",
    "    \n",
    "    return train_flat, test_flat\n",
    "    \n",
    "train_X, train_y, test_X, test_y = load_svhn(\"data\", max_train=10000, max_test=1000)    \n",
    "train_X, test_X = prepare_for_neural_network(train_X, test_X)\n",
    "# Split train into train and val\n",
    "train_X, train_y, val_X, val_y = random_split_train_val(train_X, train_y, num_val = 1000)"
   ]
  },
  {
   "cell_type": "markdown",
   "metadata": {},
   "source": [
    "# Как всегда, начинаем с кирпичиков\n",
    "\n",
    "Мы будем реализовывать необходимые нам слои по очереди. Каждый слой должен реализовать:\n",
    "- прямой проход (forward pass), который генерирует выход слоя по входу и запоминает необходимые данные\n",
    "- обратный проход (backward pass), который получает градиент по выходу слоя и вычисляет градиент по входу и по параметрам\n",
    "\n",
    "Начнем с ReLU, у которого параметров нет."
   ]
  },
  {
   "cell_type": "code",
   "execution_count": 12,
   "metadata": {
    "scrolled": false
   },
   "outputs": [
    {
     "name": "stdout",
     "output_type": "stream",
     "text": [
      "Gradient check passed!\n"
     ]
    }
   ],
   "source": [
    "# TODO: Implement ReLULayer layer in layers.py\n",
    "# Note: you'll need to copy implementation of the gradient_check function from the previous assignment\n",
    "\n",
    "X = np.array([[1,-2,3],\n",
    "              [-1, 2, 0.1]\n",
    "              ])\n",
    "\n",
    "assert check_layer_gradient(ReLULayer(), X)"
   ]
  },
  {
   "cell_type": "markdown",
   "metadata": {},
   "source": [
    "А теперь реализуем полносвязный слой (fully connected layer), у которого будет два массива параметров: W (weights) и B (bias).\n",
    "\n",
    "Все параметры наши слои будут использовать для параметров специальный класс `Param`, в котором будут храниться значения параметров и градиенты этих параметров, вычисляемые во время обратного прохода.\n",
    "\n",
    "Это даст возможность аккумулировать (суммировать) градиенты из разных частей функции потерь, например, из cross-entropy loss и regularization loss."
   ]
  },
  {
   "cell_type": "code",
   "execution_count": 6,
   "metadata": {},
   "outputs": [
    {
     "name": "stdout",
     "output_type": "stream",
     "text": [
      "Gradient check passed!\n",
      "Gradient check passed!\n",
      "Gradient check passed!\n"
     ]
    }
   ],
   "source": [
    "# TODO: Implement FullyConnected layer forward and backward methods\n",
    "assert check_layer_gradient(FullyConnectedLayer(3, 4), X)\n",
    "# TODO: Implement storing gradients for W and B\n",
    "assert check_layer_param_gradient(FullyConnectedLayer(3, 4), X, 'W')\n",
    "assert check_layer_param_gradient(FullyConnectedLayer(3, 4), X, 'B')"
   ]
  },
  {
   "cell_type": "markdown",
   "metadata": {},
   "source": [
    "## Создаем нейронную сеть\n",
    "\n",
    "Теперь мы реализуем простейшую нейронную сеть с двумя полносвязным слоями и нелинейностью ReLU. Реализуйте функцию `compute_loss_and_gradients`, она должна запустить прямой и обратный проход через оба слоя для вычисления градиентов.\n",
    "\n",
    "Не забудьте реализовать очистку градиентов в начале функции."
   ]
  },
  {
   "cell_type": "code",
   "execution_count": 33,
   "metadata": {},
   "outputs": [
    {
     "name": "stdout",
     "output_type": "stream",
     "text": [
      "Checking gradient for W1\n",
      "Gradient check passed!\n",
      "Checking gradient for B1\n",
      "Gradient check passed!\n",
      "Checking gradient for W2\n",
      "Gradient check passed!\n",
      "Checking gradient for B2\n",
      "Gradient check passed!\n"
     ]
    },
    {
     "data": {
      "text/plain": [
       "True"
      ]
     },
     "execution_count": 33,
     "metadata": {},
     "output_type": "execute_result"
    }
   ],
   "source": [
    "# TODO: In model.py, implement compute_loss_and_gradients function\n",
    "model = TwoLayerNet(n_input = train_X.shape[1], n_output = 10, hidden_layer_size = 3, reg = 0)\n",
    "loss = model.compute_loss_and_gradients(train_X[:2], train_y[:2])\n",
    "\n",
    "# TODO Now implement backward pass and aggregate all of the params\n",
    "check_model_gradient(model, train_X[:2], train_y[:2])"
   ]
  },
  {
   "cell_type": "markdown",
   "metadata": {},
   "source": [
    "Теперь добавьте к модели регуляризацию - она должна прибавляться к loss и делать свой вклад в градиенты."
   ]
  },
  {
   "cell_type": "code",
   "execution_count": 43,
   "metadata": {},
   "outputs": [
    {
     "name": "stdout",
     "output_type": "stream",
     "text": [
      "Checking gradient for W1\n",
      "Gradient check passed!\n",
      "Checking gradient for B1\n",
      "Gradient check passed!\n",
      "Checking gradient for W2\n",
      "Gradient check passed!\n",
      "Checking gradient for B2\n",
      "Gradient check passed!\n"
     ]
    },
    {
     "data": {
      "text/plain": [
       "True"
      ]
     },
     "execution_count": 43,
     "metadata": {},
     "output_type": "execute_result"
    }
   ],
   "source": [
    "# TODO Now implement l2 regularization in the forward and backward pass\n",
    "model_with_reg = TwoLayerNet(n_input = train_X.shape[1], n_output = 10, hidden_layer_size = 3, reg = 1e1)\n",
    "loss_with_reg = model_with_reg.compute_loss_and_gradients(train_X[:2], train_y[:2])\n",
    "assert loss_with_reg > loss and not np.isclose(loss_with_reg, loss), \\\n",
    "    \"Loss with regularization (%2.4f) should be higher than without it (%2.4f)!\" % (loss, loss_with_reg)\n",
    "\n",
    "check_model_gradient(model_with_reg, train_X[:2], train_y[:2])"
   ]
  },
  {
   "cell_type": "markdown",
   "metadata": {},
   "source": [
    "Также реализуем функцию предсказания (вычисления значения) модели на новых данных.\n",
    "\n",
    "Какое значение точности мы ожидаем увидеть до начала тренировки?"
   ]
  },
  {
   "cell_type": "code",
   "execution_count": 48,
   "metadata": {},
   "outputs": [
    {
     "data": {
      "text/plain": [
       "0.03333333333333333"
      ]
     },
     "execution_count": 48,
     "metadata": {},
     "output_type": "execute_result"
    }
   ],
   "source": [
    "# Finally, implement predict function!\n",
    "\n",
    "# TODO: Implement predict function\n",
    "# What would be the value we expect?\n",
    "multiclass_accuracy(model_with_reg.predict(train_X[:30]), train_y[:30]) "
   ]
  },
  {
   "cell_type": "markdown",
   "metadata": {},
   "source": [
    "# Допишем код для процесса тренировки\n",
    "\n",
    "Если все реализовано корректно, значение функции ошибки должно уменьшаться с каждой эпохой, пусть и медленно. Не беспокойтесь пока про validation accuracy."
   ]
  },
  {
   "cell_type": "code",
   "execution_count": 54,
   "metadata": {},
   "outputs": [
    {
     "name": "stdout",
     "output_type": "stream",
     "text": [
      "Loss: 2.246632, Train accuracy: 0.196667, val accuracy: 0.206000\n",
      "Loss: 2.117500, Train accuracy: 0.196667, val accuracy: 0.206000\n",
      "Loss: 2.072445, Train accuracy: 0.196667, val accuracy: 0.206000\n",
      "Loss: 2.328050, Train accuracy: 0.196667, val accuracy: 0.206000\n",
      "Loss: 2.230199, Train accuracy: 0.196667, val accuracy: 0.206000\n",
      "Loss: 2.164401, Train accuracy: 0.196667, val accuracy: 0.206000\n",
      "Loss: 2.179622, Train accuracy: 0.196667, val accuracy: 0.206000\n",
      "Loss: 2.428201, Train accuracy: 0.196667, val accuracy: 0.206000\n",
      "Loss: 2.394538, Train accuracy: 0.207778, val accuracy: 0.214000\n",
      "Loss: 2.353004, Train accuracy: 0.233111, val accuracy: 0.237000\n",
      "Loss: 1.947303, Train accuracy: 0.251111, val accuracy: 0.251000\n",
      "Loss: 2.193316, Train accuracy: 0.271333, val accuracy: 0.271000\n",
      "Loss: 2.119370, Train accuracy: 0.287333, val accuracy: 0.294000\n",
      "Loss: 1.958857, Train accuracy: 0.319000, val accuracy: 0.325000\n",
      "Loss: 1.515307, Train accuracy: 0.343222, val accuracy: 0.343000\n",
      "Loss: 1.970052, Train accuracy: 0.375778, val accuracy: 0.368000\n",
      "Loss: 2.012824, Train accuracy: 0.409222, val accuracy: 0.404000\n",
      "Loss: 1.746624, Train accuracy: 0.436778, val accuracy: 0.430000\n",
      "Loss: 1.621009, Train accuracy: 0.456778, val accuracy: 0.456000\n",
      "Loss: 1.643429, Train accuracy: 0.482667, val accuracy: 0.479000\n"
     ]
    }
   ],
   "source": [
    "model = TwoLayerNet(n_input = train_X.shape[1], n_output = 10, hidden_layer_size = 100, reg = 1e-4)\n",
    "dataset = Dataset(train_X, train_y, val_X, val_y)\n",
    "trainer = Trainer(model, dataset, SGD(), learning_rate = 1e-2)\n",
    "\n",
    "# TODO Implement missing pieces in Trainer.fit function\n",
    "# You should expect loss to go down every epoch, even if it's slow\n",
    "loss_history, train_history, val_history = trainer.fit()"
   ]
  },
  {
   "cell_type": "code",
   "execution_count": 51,
   "metadata": {},
   "outputs": [
    {
     "data": {
      "text/plain": [
       "[<matplotlib.lines.Line2D at 0x7f78abbf4358>]"
      ]
     },
     "execution_count": 51,
     "metadata": {},
     "output_type": "execute_result"
    },
    {
     "data": {
      "image/png": "[encoded data removed]",
      "text/plain": [
       "<Figure size 432x288 with 1 Axes>"
      ]
     },
     "metadata": {
      "needs_background": "light"
     },
     "output_type": "display_data"
    }
   ],
   "source": [
    "plt.plot(train_history)\n",
    "plt.plot(val_history)"
   ]
  },
  {
   "cell_type": "markdown",
   "metadata": {},
   "source": [
    "# Улучшаем процесс тренировки\n",
    "\n",
    "Мы реализуем несколько ключевых оптимизаций, необходимых для тренировки современных нейросетей."
   ]
  },
  {
   "cell_type": "markdown",
   "metadata": {},
   "source": [
    "## Уменьшение скорости обучения (learning rate decay)\n",
    "\n",
    "Одна из необходимых оптимизаций во время тренировки нейронных сетей - постепенное уменьшение скорости обучения по мере тренировки.\n",
    "\n",
    "Один из стандартных методов - уменьшение скорости обучения (learning rate) каждые N эпох на коэффициент d (часто называемый decay). Значения N и d, как всегда, являются гиперпараметрами и должны подбираться на основе эффективности на проверочных данных (validation data). \n",
    "\n",
    "В нашем случае N будет равным 1."
   ]
  },
  {
   "cell_type": "code",
   "execution_count": 59,
   "metadata": {},
   "outputs": [
    {
     "name": "stdout",
     "output_type": "stream",
     "text": [
      "Loss: 2.314177, Train accuracy: 0.196667, val accuracy: 0.206000\n",
      "Loss: 2.243515, Train accuracy: 0.196667, val accuracy: 0.206000\n",
      "Loss: 2.252972, Train accuracy: 0.196667, val accuracy: 0.206000\n",
      "Loss: 2.238521, Train accuracy: 0.196667, val accuracy: 0.206000\n",
      "Loss: 2.235432, Train accuracy: 0.196667, val accuracy: 0.206000\n",
      "Loss: 2.260031, Train accuracy: 0.196667, val accuracy: 0.206000\n",
      "Loss: 2.158787, Train accuracy: 0.196667, val accuracy: 0.206000\n",
      "Loss: 2.433237, Train accuracy: 0.196667, val accuracy: 0.206000\n",
      "Loss: 2.005228, Train accuracy: 0.196778, val accuracy: 0.206000\n",
      "Loss: 2.190420, Train accuracy: 0.217444, val accuracy: 0.228000\n",
      "Loss: 2.285498, Train accuracy: 0.239333, val accuracy: 0.245000\n",
      "Loss: 1.945856, Train accuracy: 0.261556, val accuracy: 0.260000\n",
      "Loss: 1.975644, Train accuracy: 0.272333, val accuracy: 0.276000\n",
      "Loss: 1.879998, Train accuracy: 0.285667, val accuracy: 0.292000\n",
      "Loss: 1.949857, Train accuracy: 0.305556, val accuracy: 0.319000\n",
      "Loss: 1.686007, Train accuracy: 0.338222, val accuracy: 0.348000\n",
      "Loss: 1.849453, Train accuracy: 0.374778, val accuracy: 0.371000\n",
      "Loss: 1.764442, Train accuracy: 0.400444, val accuracy: 0.391000\n",
      "Loss: 1.477130, Train accuracy: 0.430444, val accuracy: 0.414000\n",
      "Loss: 1.779706, Train accuracy: 0.446000, val accuracy: 0.420000\n"
     ]
    }
   ],
   "source": [
    "# TODO Implement learning rate decay inside Trainer.fit method\n",
    "# Decay should happen once per epoch\n",
    "\n",
    "model = TwoLayerNet(n_input = train_X.shape[1], n_output = 10, hidden_layer_size = 100, reg = 1e-4)\n",
    "dataset = Dataset(train_X, train_y, val_X, val_y)\n",
    "trainer = Trainer(model, dataset, SGD(), learning_rate_decay=0.99)\n",
    "\n",
    "initial_learning_rate = trainer.learning_rate\n",
    "loss_history, train_history, val_history = trainer.fit()\n",
    "\n",
    "assert trainer.learning_rate < initial_learning_rate, \"Learning rate should've been reduced\"\n",
    "assert trainer.learning_rate > 0.5*initial_learning_rate, \"Learning rate shouldn'tve been reduced that much!\""
   ]
  },
  {
   "cell_type": "markdown",
   "metadata": {},
   "source": [
    "# Накопление импульса (Momentum SGD)\n",
    "\n",
    "Другой большой класс оптимизаций - использование более эффективных методов градиентного спуска. Мы реализуем один из них - накопление импульса (Momentum SGD).\n",
    "\n",
    "Этот метод хранит скорость движения, использует градиент для ее изменения на каждом шаге, и изменяет веса пропорционально значению скорости.\n",
    "(Физическая аналогия: Вместо скорости градиенты теперь будут задавать ускорение, но будет присутствовать сила трения.)\n",
    "\n",
    "```\n",
    "velocity = momentum * velocity - learning_rate * gradient \n",
    "w = w + velocity\n",
    "```\n",
    "\n",
    "`momentum` здесь коэффициент затухания, который тоже является гиперпараметром (к счастью, для него часто есть хорошее значение по умолчанию, типичный диапазон -- 0.8-0.99).\n",
    "\n",
    "Несколько полезных ссылок, где метод разбирается более подробно:  \n",
    "http://cs231n.github.io/neural-networks-3/#sgd  \n",
    "https://distill.pub/2017/momentum/"
   ]
  },
  {
   "cell_type": "code",
   "execution_count": 62,
   "metadata": {},
   "outputs": [
    {
     "name": "stdout",
     "output_type": "stream",
     "text": [
      "Loss: 2.357603, Train accuracy: 0.196667, val accuracy: 0.206000\n",
      "Loss: 2.338800, Train accuracy: 0.196667, val accuracy: 0.206000\n",
      "Loss: 2.350677, Train accuracy: 0.196667, val accuracy: 0.206000\n",
      "Loss: 2.334653, Train accuracy: 0.196667, val accuracy: 0.206000\n",
      "Loss: 2.334950, Train accuracy: 0.196667, val accuracy: 0.206000\n",
      "Loss: 2.337718, Train accuracy: 0.196667, val accuracy: 0.206000\n",
      "Loss: 2.331494, Train accuracy: 0.196667, val accuracy: 0.206000\n",
      "Loss: 2.263713, Train accuracy: 0.196667, val accuracy: 0.206000\n",
      "Loss: 2.318344, Train accuracy: 0.196667, val accuracy: 0.206000\n",
      "Loss: 2.303037, Train accuracy: 0.196667, val accuracy: 0.206000\n",
      "Loss: 2.336528, Train accuracy: 0.196667, val accuracy: 0.206000\n",
      "Loss: 2.316995, Train accuracy: 0.196667, val accuracy: 0.206000\n",
      "Loss: 2.294359, Train accuracy: 0.196667, val accuracy: 0.206000\n",
      "Loss: 2.286704, Train accuracy: 0.196667, val accuracy: 0.206000\n",
      "Loss: 2.329608, Train accuracy: 0.196667, val accuracy: 0.206000\n",
      "Loss: 2.339136, Train accuracy: 0.196667, val accuracy: 0.206000\n",
      "Loss: 2.367350, Train accuracy: 0.196667, val accuracy: 0.206000\n",
      "Loss: 2.280809, Train accuracy: 0.196667, val accuracy: 0.206000\n",
      "Loss: 2.332731, Train accuracy: 0.196667, val accuracy: 0.206000\n",
      "Loss: 2.324587, Train accuracy: 0.196667, val accuracy: 0.206000\n"
     ]
    }
   ],
   "source": [
    "# TODO: Implement MomentumSGD.update function in optim.py\n",
    "\n",
    "model = TwoLayerNet(n_input = train_X.shape[1], n_output = 10, hidden_layer_size = 100, reg = 1e-1)\n",
    "dataset = Dataset(train_X, train_y, val_X, val_y)\n",
    "trainer = Trainer(model, dataset, MomentumSGD(), learning_rate=1e-4, learning_rate_decay=0.99)\n",
    "\n",
    "# You should see even better results than before!\n",
    "loss_history, train_history, val_history = trainer.fit()"
   ]
  },
  {
   "cell_type": "markdown",
   "metadata": {},
   "source": [
    "# Ну что, давайте уже тренировать сеть!"
   ]
  },
  {
   "cell_type": "markdown",
   "metadata": {},
   "source": [
    "## Последний тест - переобучимся (overfit) на маленьком наборе данных\n",
    "\n",
    "Хороший способ проверить, все ли реализовано корректно - переобучить сеть на маленьком наборе данных.  \n",
    "Наша модель обладает достаточной мощностью, чтобы приблизить маленький набор данных идеально, поэтому мы ожидаем, что на нем мы быстро дойдем до 100% точности на тренировочном наборе. \n",
    "\n",
    "Если этого не происходит, то где-то была допущена ошибка!"
   ]
  },
  {
   "cell_type": "code",
   "execution_count": 79,
   "metadata": {},
   "outputs": [
    {
     "name": "stdout",
     "output_type": "stream",
     "text": [
      "Loss: 2.369255, Train accuracy: 0.200000, val accuracy: 0.133333\n",
      "Loss: 2.382888, Train accuracy: 0.200000, val accuracy: 0.133333\n",
      "Loss: 2.363594, Train accuracy: 0.200000, val accuracy: 0.133333\n",
      "Loss: 2.377775, Train accuracy: 0.200000, val accuracy: 0.133333\n",
      "Loss: 2.332133, Train accuracy: 0.200000, val accuracy: 0.133333\n",
      "Loss: 2.343493, Train accuracy: 0.200000, val accuracy: 0.133333\n",
      "Loss: 2.405668, Train accuracy: 0.200000, val accuracy: 0.133333\n",
      "Loss: 2.251714, Train accuracy: 0.200000, val accuracy: 0.133333\n",
      "Loss: 2.174072, Train accuracy: 0.333333, val accuracy: 0.066667\n",
      "Loss: 2.112179, Train accuracy: 0.400000, val accuracy: 0.000000\n",
      "Loss: 2.426835, Train accuracy: 0.400000, val accuracy: 0.000000\n",
      "Loss: 2.204818, Train accuracy: 0.400000, val accuracy: 0.000000\n",
      "Loss: 2.452554, Train accuracy: 0.400000, val accuracy: 0.000000\n",
      "Loss: 1.927691, Train accuracy: 0.333333, val accuracy: 0.000000\n",
      "Loss: 1.895987, Train accuracy: 0.333333, val accuracy: 0.000000\n",
      "Loss: 1.672102, Train accuracy: 0.333333, val accuracy: 0.000000\n",
      "Loss: 1.495951, Train accuracy: 0.333333, val accuracy: 0.000000\n",
      "Loss: 2.173716, Train accuracy: 0.400000, val accuracy: 0.000000\n",
      "Loss: 1.885465, Train accuracy: 0.400000, val accuracy: 0.000000\n",
      "Loss: 1.293356, Train accuracy: 0.400000, val accuracy: 0.000000\n",
      "Loss: 2.597092, Train accuracy: 0.400000, val accuracy: 0.000000\n",
      "Loss: 1.890411, Train accuracy: 0.400000, val accuracy: 0.000000\n",
      "Loss: 1.484595, Train accuracy: 0.400000, val accuracy: 0.000000\n",
      "Loss: 2.274328, Train accuracy: 0.466667, val accuracy: 0.066667\n",
      "Loss: 1.572968, Train accuracy: 0.400000, val accuracy: 0.000000\n",
      "Loss: 1.632655, Train accuracy: 0.466667, val accuracy: 0.000000\n",
      "Loss: 2.145739, Train accuracy: 0.533333, val accuracy: 0.066667\n",
      "Loss: 1.984777, Train accuracy: 0.466667, val accuracy: 0.066667\n",
      "Loss: 2.198971, Train accuracy: 0.466667, val accuracy: 0.066667\n",
      "Loss: 1.735391, Train accuracy: 0.533333, val accuracy: 0.066667\n",
      "Loss: 1.655423, Train accuracy: 0.533333, val accuracy: 0.066667\n",
      "Loss: 1.766254, Train accuracy: 0.600000, val accuracy: 0.000000\n",
      "Loss: 1.514249, Train accuracy: 0.533333, val accuracy: 0.066667\n",
      "Loss: 1.700165, Train accuracy: 0.666667, val accuracy: 0.066667\n",
      "Loss: 1.312636, Train accuracy: 0.666667, val accuracy: 0.066667\n",
      "Loss: 1.215488, Train accuracy: 0.666667, val accuracy: 0.000000\n",
      "Loss: 1.191492, Train accuracy: 0.666667, val accuracy: 0.066667\n",
      "Loss: 1.353735, Train accuracy: 0.666667, val accuracy: 0.066667\n",
      "Loss: 1.946043, Train accuracy: 0.666667, val accuracy: 0.066667\n",
      "Loss: 1.603456, Train accuracy: 0.666667, val accuracy: 0.066667\n",
      "Loss: 1.854660, Train accuracy: 0.733333, val accuracy: 0.066667\n",
      "Loss: 1.563939, Train accuracy: 0.666667, val accuracy: 0.133333\n",
      "Loss: 1.156129, Train accuracy: 0.600000, val accuracy: 0.066667\n",
      "Loss: 1.550915, Train accuracy: 0.600000, val accuracy: 0.000000\n",
      "Loss: 1.433108, Train accuracy: 0.666667, val accuracy: 0.066667\n",
      "Loss: 1.483532, Train accuracy: 0.666667, val accuracy: 0.066667\n",
      "Loss: 1.530164, Train accuracy: 0.733333, val accuracy: 0.133333\n",
      "Loss: 1.559101, Train accuracy: 0.666667, val accuracy: 0.133333\n",
      "Loss: 1.567195, Train accuracy: 0.733333, val accuracy: 0.133333\n",
      "Loss: 1.432399, Train accuracy: 0.733333, val accuracy: 0.000000\n",
      "Loss: 1.364731, Train accuracy: 0.733333, val accuracy: 0.066667\n",
      "Loss: 1.340648, Train accuracy: 0.733333, val accuracy: 0.066667\n",
      "Loss: 1.357840, Train accuracy: 0.733333, val accuracy: 0.066667\n",
      "Loss: 1.497547, Train accuracy: 0.733333, val accuracy: 0.066667\n",
      "Loss: 0.905535, Train accuracy: 0.733333, val accuracy: 0.066667\n",
      "Loss: 1.055608, Train accuracy: 0.733333, val accuracy: 0.066667\n",
      "Loss: 1.521069, Train accuracy: 0.733333, val accuracy: 0.066667\n",
      "Loss: 0.928990, Train accuracy: 0.733333, val accuracy: 0.066667\n",
      "Loss: 1.114077, Train accuracy: 0.733333, val accuracy: 0.066667\n",
      "Loss: 1.182073, Train accuracy: 0.733333, val accuracy: 0.066667\n",
      "Loss: 1.023227, Train accuracy: 0.733333, val accuracy: 0.066667\n",
      "Loss: 1.557051, Train accuracy: 0.733333, val accuracy: 0.066667\n",
      "Loss: 1.185718, Train accuracy: 0.733333, val accuracy: 0.066667\n",
      "Loss: 0.808782, Train accuracy: 0.733333, val accuracy: 0.066667\n",
      "Loss: 1.592117, Train accuracy: 0.733333, val accuracy: 0.066667\n",
      "Loss: 0.934379, Train accuracy: 0.800000, val accuracy: 0.066667\n",
      "Loss: 1.790100, Train accuracy: 0.800000, val accuracy: 0.066667\n",
      "Loss: 0.958180, Train accuracy: 0.800000, val accuracy: 0.066667\n",
      "Loss: 1.366354, Train accuracy: 0.800000, val accuracy: 0.066667\n",
      "Loss: 0.710449, Train accuracy: 0.800000, val accuracy: 0.066667\n",
      "Loss: 1.405541, Train accuracy: 0.800000, val accuracy: 0.066667\n",
      "Loss: 1.412452, Train accuracy: 0.800000, val accuracy: 0.066667\n",
      "Loss: 1.054010, Train accuracy: 0.866667, val accuracy: 0.066667\n",
      "Loss: 1.398342, Train accuracy: 0.800000, val accuracy: 0.066667\n",
      "Loss: 1.009836, Train accuracy: 0.800000, val accuracy: 0.066667\n",
      "Loss: 0.945968, Train accuracy: 0.800000, val accuracy: 0.066667\n",
      "Loss: 1.330000, Train accuracy: 0.866667, val accuracy: 0.066667\n",
      "Loss: 1.139697, Train accuracy: 0.866667, val accuracy: 0.066667\n",
      "Loss: 1.115487, Train accuracy: 0.866667, val accuracy: 0.066667\n",
      "Loss: 1.631404, Train accuracy: 0.866667, val accuracy: 0.066667\n",
      "Loss: 1.262103, Train accuracy: 0.866667, val accuracy: 0.066667\n",
      "Loss: 1.181181, Train accuracy: 0.866667, val accuracy: 0.066667\n",
      "Loss: 1.054442, Train accuracy: 0.866667, val accuracy: 0.066667\n",
      "Loss: 1.348638, Train accuracy: 0.866667, val accuracy: 0.066667\n",
      "Loss: 1.265160, Train accuracy: 0.866667, val accuracy: 0.066667\n",
      "Loss: 0.999768, Train accuracy: 0.866667, val accuracy: 0.066667\n",
      "Loss: 1.295450, Train accuracy: 0.866667, val accuracy: 0.000000\n",
      "Loss: 0.808996, Train accuracy: 0.866667, val accuracy: 0.066667\n",
      "Loss: 1.270274, Train accuracy: 0.866667, val accuracy: 0.066667\n",
      "Loss: 0.997020, Train accuracy: 0.866667, val accuracy: 0.066667\n",
      "Loss: 0.774229, Train accuracy: 0.866667, val accuracy: 0.000000\n",
      "Loss: 1.481290, Train accuracy: 0.866667, val accuracy: 0.000000\n",
      "Loss: 1.486942, Train accuracy: 0.933333, val accuracy: 0.000000\n",
      "Loss: 1.473989, Train accuracy: 0.933333, val accuracy: 0.000000\n",
      "Loss: 1.020914, Train accuracy: 0.933333, val accuracy: 0.000000\n",
      "Loss: 1.304108, Train accuracy: 0.933333, val accuracy: 0.000000\n",
      "Loss: 1.220837, Train accuracy: 0.933333, val accuracy: 0.000000\n",
      "Loss: 1.268470, Train accuracy: 0.933333, val accuracy: 0.000000\n",
      "Loss: 0.957437, Train accuracy: 1.000000, val accuracy: 0.000000\n",
      "Loss: 0.685527, Train accuracy: 0.933333, val accuracy: 0.000000\n",
      "Loss: 1.411909, Train accuracy: 1.000000, val accuracy: 0.000000\n",
      "Loss: 1.010482, Train accuracy: 1.000000, val accuracy: 0.000000\n",
      "Loss: 1.165487, Train accuracy: 1.000000, val accuracy: 0.000000\n",
      "Loss: 0.950314, Train accuracy: 1.000000, val accuracy: 0.000000\n",
      "Loss: 1.063907, Train accuracy: 0.933333, val accuracy: 0.000000\n",
      "Loss: 0.847004, Train accuracy: 1.000000, val accuracy: 0.000000\n",
      "Loss: 1.101126, Train accuracy: 1.000000, val accuracy: 0.000000\n",
      "Loss: 1.123179, Train accuracy: 1.000000, val accuracy: 0.000000\n",
      "Loss: 1.317326, Train accuracy: 1.000000, val accuracy: 0.000000\n",
      "Loss: 1.138464, Train accuracy: 1.000000, val accuracy: 0.000000\n",
      "Loss: 0.932511, Train accuracy: 0.933333, val accuracy: 0.000000\n",
      "Loss: 1.214754, Train accuracy: 1.000000, val accuracy: 0.000000\n",
      "Loss: 1.132439, Train accuracy: 1.000000, val accuracy: 0.000000\n",
      "Loss: 1.238588, Train accuracy: 1.000000, val accuracy: 0.000000\n",
      "Loss: 1.055685, Train accuracy: 1.000000, val accuracy: 0.000000\n",
      "Loss: 1.019922, Train accuracy: 1.000000, val accuracy: 0.000000\n",
      "Loss: 0.748677, Train accuracy: 1.000000, val accuracy: 0.000000\n",
      "Loss: 0.717514, Train accuracy: 1.000000, val accuracy: 0.000000\n",
      "Loss: 0.673684, Train accuracy: 1.000000, val accuracy: 0.000000\n",
      "Loss: 1.025956, Train accuracy: 1.000000, val accuracy: 0.000000\n",
      "Loss: 0.868842, Train accuracy: 1.000000, val accuracy: 0.000000\n",
      "Loss: 1.027486, Train accuracy: 1.000000, val accuracy: 0.000000\n",
      "Loss: 1.139679, Train accuracy: 1.000000, val accuracy: 0.000000\n",
      "Loss: 1.212306, Train accuracy: 1.000000, val accuracy: 0.000000\n",
      "Loss: 1.084070, Train accuracy: 1.000000, val accuracy: 0.000000\n",
      "Loss: 1.259941, Train accuracy: 1.000000, val accuracy: 0.000000\n",
      "Loss: 1.134698, Train accuracy: 1.000000, val accuracy: 0.000000\n",
      "Loss: 0.837366, Train accuracy: 1.000000, val accuracy: 0.000000\n",
      "Loss: 0.808468, Train accuracy: 1.000000, val accuracy: 0.000000\n",
      "Loss: 1.176667, Train accuracy: 1.000000, val accuracy: 0.000000\n",
      "Loss: 0.931214, Train accuracy: 1.000000, val accuracy: 0.000000\n",
      "Loss: 1.000516, Train accuracy: 1.000000, val accuracy: 0.000000\n",
      "Loss: 0.879968, Train accuracy: 1.000000, val accuracy: 0.000000\n",
      "Loss: 0.791399, Train accuracy: 1.000000, val accuracy: 0.000000\n"
     ]
    },
    {
     "name": "stdout",
     "output_type": "stream",
     "text": [
      "Loss: 0.975375, Train accuracy: 1.000000, val accuracy: 0.000000\n",
      "Loss: 0.817492, Train accuracy: 1.000000, val accuracy: 0.000000\n",
      "Loss: 1.180109, Train accuracy: 1.000000, val accuracy: 0.000000\n",
      "Loss: 0.906299, Train accuracy: 1.000000, val accuracy: 0.000000\n",
      "Loss: 0.947227, Train accuracy: 1.000000, val accuracy: 0.000000\n",
      "Loss: 1.001864, Train accuracy: 1.000000, val accuracy: 0.000000\n",
      "Loss: 1.082638, Train accuracy: 1.000000, val accuracy: 0.000000\n",
      "Loss: 1.100855, Train accuracy: 1.000000, val accuracy: 0.000000\n",
      "Loss: 1.040044, Train accuracy: 1.000000, val accuracy: 0.000000\n",
      "Loss: 1.041408, Train accuracy: 1.000000, val accuracy: 0.000000\n",
      "Loss: 1.234825, Train accuracy: 1.000000, val accuracy: 0.000000\n",
      "Loss: 1.048477, Train accuracy: 1.000000, val accuracy: 0.000000\n",
      "Loss: 1.043717, Train accuracy: 1.000000, val accuracy: 0.000000\n",
      "Loss: 0.897724, Train accuracy: 1.000000, val accuracy: 0.000000\n",
      "Loss: 1.065914, Train accuracy: 1.000000, val accuracy: 0.000000\n",
      "Loss: 1.082831, Train accuracy: 1.000000, val accuracy: 0.000000\n"
     ]
    }
   ],
   "source": [
    "data_size = 15\n",
    "model = TwoLayerNet(n_input = train_X.shape[1], n_output = 10, hidden_layer_size = 100, reg = 1e-1)\n",
    "dataset = Dataset(train_X[:data_size], train_y[:data_size], val_X[:data_size], val_y[:data_size])\n",
    "trainer = Trainer(model, dataset, SGD(), learning_rate=1e-1, num_epochs=150, batch_size=5)\n",
    "\n",
    "# You should expect this to reach 1.0 training accuracy \n",
    "loss_history, train_history, val_history = trainer.fit()"
   ]
  },
  {
   "cell_type": "markdown",
   "metadata": {},
   "source": [
    "Теперь найдем гипепараметры, для которых этот процесс сходится быстрее.\n",
    "Если все реализовано корректно, то существуют параметры, при которых процесс сходится в **20** эпох или еще быстрее.\n",
    "Найдите их!"
   ]
  },
  {
   "cell_type": "code",
   "execution_count": 119,
   "metadata": {},
   "outputs": [
    {
     "name": "stdout",
     "output_type": "stream",
     "text": [
      "Loss: 2.302252, Train accuracy: 0.200000, val accuracy: 0.133333\n",
      "Loss: 2.286720, Train accuracy: 0.200000, val accuracy: 0.133333\n",
      "Loss: 2.258470, Train accuracy: 0.200000, val accuracy: 0.133333\n",
      "Loss: 2.215336, Train accuracy: 0.266667, val accuracy: 0.000000\n",
      "Loss: 2.132360, Train accuracy: 0.400000, val accuracy: 0.000000\n",
      "Loss: 1.936603, Train accuracy: 0.400000, val accuracy: 0.000000\n",
      "Loss: 1.748990, Train accuracy: 0.400000, val accuracy: 0.000000\n",
      "Loss: 1.566332, Train accuracy: 0.533333, val accuracy: 0.000000\n",
      "Loss: 1.440141, Train accuracy: 0.400000, val accuracy: 0.133333\n",
      "Loss: 1.738971, Train accuracy: 0.666667, val accuracy: 0.000000\n",
      "Loss: 1.160956, Train accuracy: 0.600000, val accuracy: 0.000000\n",
      "Loss: 1.136328, Train accuracy: 0.600000, val accuracy: 0.000000\n",
      "Loss: 0.872885, Train accuracy: 0.666667, val accuracy: 0.066667\n",
      "Loss: 0.751899, Train accuracy: 0.733333, val accuracy: 0.066667\n",
      "Loss: 0.546613, Train accuracy: 0.800000, val accuracy: 0.066667\n",
      "Loss: 0.379538, Train accuracy: 0.933333, val accuracy: 0.000000\n",
      "Loss: 0.246302, Train accuracy: 1.000000, val accuracy: 0.000000\n",
      "Loss: 0.105446, Train accuracy: 1.000000, val accuracy: 0.000000\n",
      "Loss: 0.031383, Train accuracy: 1.000000, val accuracy: 0.000000\n",
      "Loss: 0.011072, Train accuracy: 1.000000, val accuracy: 0.000000\n"
     ]
    }
   ],
   "source": [
    "# Now, tweak some hyper parameters and make it train to 1.0 accuracy in 20 epochs or less\n",
    "l = 4e-1\n",
    "b_s = 15\n",
    "decay = 0.99\n",
    "\n",
    "model = TwoLayerNet(n_input = train_X.shape[1], n_output = 10, hidden_layer_size = 200, reg = 0)\n",
    "dataset = Dataset(train_X[:data_size], train_y[:data_size], val_X[:data_size], val_y[:data_size])\n",
    "# TODO: Change any hyperparamers or optimizators to reach training accuracy in 20 epochs\n",
    "trainer = Trainer(model, dataset, MomentumSGD(), learning_rate=l, num_epochs=20, batch_size=b_s, learning_rate_decay=decay)\n",
    "\n",
    "loss_history, train_history, val_history = trainer.fit()"
   ]
  },
  {
   "cell_type": "markdown",
   "metadata": {},
   "source": [
    "# Итак, основное мероприятие!\n",
    "\n",
    "Натренируйте лучшую нейросеть! Можно добавлять и изменять параметры, менять количество нейронов в слоях сети и как угодно экспериментировать. \n",
    "\n",
    "Добейтесь точности лучше **40%** на validation set."
   ]
  },
  {
   "cell_type": "code",
   "execution_count": 131,
   "metadata": {
    "scrolled": true
   },
   "outputs": [
    {
     "name": "stdout",
     "output_type": "stream",
     "text": [
      "Loss: 2.281188, Train accuracy: 0.196667, val accuracy: 0.206000\n",
      "Loss: 2.206616, Train accuracy: 0.196667, val accuracy: 0.206000\n",
      "Loss: 2.155726, Train accuracy: 0.196667, val accuracy: 0.206000\n",
      "Loss: 2.148361, Train accuracy: 0.255333, val accuracy: 0.255000\n",
      "Loss: 1.954186, Train accuracy: 0.328333, val accuracy: 0.334000\n",
      "Loss: 1.822194, Train accuracy: 0.425111, val accuracy: 0.416000\n",
      "Loss: 1.634466, Train accuracy: 0.489000, val accuracy: 0.483000\n",
      "Loss: 1.371537, Train accuracy: 0.546889, val accuracy: 0.545000\n",
      "Loss: 1.337402, Train accuracy: 0.591111, val accuracy: 0.575000\n",
      "Loss: 1.396400, Train accuracy: 0.642222, val accuracy: 0.628000\n",
      "Loss: 0.786023, Train accuracy: 0.644333, val accuracy: 0.632000\n",
      "Loss: 1.449124, Train accuracy: 0.678444, val accuracy: 0.666000\n",
      "Loss: 1.207816, Train accuracy: 0.684333, val accuracy: 0.667000\n",
      "Loss: 0.958584, Train accuracy: 0.703111, val accuracy: 0.691000\n",
      "Loss: 0.734434, Train accuracy: 0.717000, val accuracy: 0.692000\n",
      "Loss: 1.171066, Train accuracy: 0.725000, val accuracy: 0.708000\n",
      "Loss: 0.952156, Train accuracy: 0.738000, val accuracy: 0.699000\n",
      "Loss: 0.866960, Train accuracy: 0.741889, val accuracy: 0.717000\n",
      "Loss: 0.806509, Train accuracy: 0.753444, val accuracy: 0.714000\n",
      "Loss: 0.735986, Train accuracy: 0.765444, val accuracy: 0.717000\n",
      "Loss: 0.897696, Train accuracy: 0.765889, val accuracy: 0.712000\n",
      "Loss: 0.629810, Train accuracy: 0.778556, val accuracy: 0.720000\n",
      "Loss: 0.855374, Train accuracy: 0.781556, val accuracy: 0.724000\n",
      "Loss: 0.905851, Train accuracy: 0.798333, val accuracy: 0.732000\n",
      "Loss: 0.552997, Train accuracy: 0.803333, val accuracy: 0.724000\n",
      "Loss: 0.873687, Train accuracy: 0.808222, val accuracy: 0.728000\n",
      "Loss: 0.613252, Train accuracy: 0.811222, val accuracy: 0.729000\n",
      "Loss: 0.688394, Train accuracy: 0.817444, val accuracy: 0.744000\n",
      "Loss: 0.611744, Train accuracy: 0.823889, val accuracy: 0.737000\n",
      "Loss: 0.701708, Train accuracy: 0.832000, val accuracy: 0.746000\n",
      "Loss: 0.377237, Train accuracy: 0.823556, val accuracy: 0.729000\n",
      "Loss: 0.708295, Train accuracy: 0.835667, val accuracy: 0.735000\n",
      "Loss: 0.616455, Train accuracy: 0.836111, val accuracy: 0.742000\n",
      "Loss: 0.692126, Train accuracy: 0.836667, val accuracy: 0.736000\n",
      "Loss: 0.629824, Train accuracy: 0.851889, val accuracy: 0.744000\n",
      "Loss: 0.423857, Train accuracy: 0.853889, val accuracy: 0.753000\n",
      "Loss: 0.642288, Train accuracy: 0.853000, val accuracy: 0.732000\n",
      "Loss: 0.423971, Train accuracy: 0.866222, val accuracy: 0.751000\n",
      "Loss: 0.467400, Train accuracy: 0.866778, val accuracy: 0.750000\n",
      "Loss: 0.558602, Train accuracy: 0.866556, val accuracy: 0.746000\n",
      "Loss: 0.403280, Train accuracy: 0.870889, val accuracy: 0.749000\n",
      "Loss: 0.592368, Train accuracy: 0.878222, val accuracy: 0.753000\n",
      "Loss: 0.559806, Train accuracy: 0.873111, val accuracy: 0.749000\n",
      "Loss: 0.478645, Train accuracy: 0.876111, val accuracy: 0.753000\n",
      "Loss: 0.313062, Train accuracy: 0.882556, val accuracy: 0.750000\n",
      "Loss: 0.459507, Train accuracy: 0.885889, val accuracy: 0.752000\n",
      "Loss: 0.264327, Train accuracy: 0.883889, val accuracy: 0.752000\n",
      "Loss: 0.451119, Train accuracy: 0.897667, val accuracy: 0.753000\n",
      "Loss: 0.139932, Train accuracy: 0.893000, val accuracy: 0.748000\n",
      "Loss: 0.277355, Train accuracy: 0.897889, val accuracy: 0.761000\n",
      "Loss: 0.616762, Train accuracy: 0.902778, val accuracy: 0.753000\n",
      "Loss: 0.485318, Train accuracy: 0.903222, val accuracy: 0.761000\n",
      "Loss: 0.278726, Train accuracy: 0.908444, val accuracy: 0.764000\n",
      "Loss: 0.447456, Train accuracy: 0.907222, val accuracy: 0.753000\n",
      "Loss: 0.369223, Train accuracy: 0.913444, val accuracy: 0.758000\n",
      "Loss: 0.354814, Train accuracy: 0.910333, val accuracy: 0.757000\n",
      "Loss: 0.284790, Train accuracy: 0.914222, val accuracy: 0.752000\n",
      "Loss: 0.346435, Train accuracy: 0.918111, val accuracy: 0.765000\n",
      "Loss: 0.235973, Train accuracy: 0.917000, val accuracy: 0.756000\n",
      "Loss: 0.503000, Train accuracy: 0.919778, val accuracy: 0.756000\n",
      "Loss: 0.283727, Train accuracy: 0.925889, val accuracy: 0.759000\n",
      "Loss: 0.449101, Train accuracy: 0.918444, val accuracy: 0.754000\n",
      "Loss: 0.341075, Train accuracy: 0.926778, val accuracy: 0.756000\n",
      "Loss: 0.299425, Train accuracy: 0.921667, val accuracy: 0.762000\n",
      "Loss: 0.228111, Train accuracy: 0.931889, val accuracy: 0.768000\n",
      "Loss: 0.185150, Train accuracy: 0.931778, val accuracy: 0.766000\n",
      "Loss: 0.216071, Train accuracy: 0.933111, val accuracy: 0.767000\n",
      "Loss: 0.158753, Train accuracy: 0.934778, val accuracy: 0.749000\n",
      "Loss: 0.231302, Train accuracy: 0.936000, val accuracy: 0.759000\n",
      "Loss: 0.216109, Train accuracy: 0.939778, val accuracy: 0.753000\n",
      "Loss: 0.158906, Train accuracy: 0.942222, val accuracy: 0.764000\n",
      "Loss: 0.256034, Train accuracy: 0.941889, val accuracy: 0.765000\n",
      "Loss: 0.272331, Train accuracy: 0.944556, val accuracy: 0.771000\n",
      "Loss: 0.364052, Train accuracy: 0.943333, val accuracy: 0.766000\n",
      "Loss: 0.194999, Train accuracy: 0.946000, val accuracy: 0.756000\n",
      "Loss: 0.357962, Train accuracy: 0.950000, val accuracy: 0.767000\n",
      "Loss: 0.163107, Train accuracy: 0.952333, val accuracy: 0.759000\n",
      "Loss: 0.147558, Train accuracy: 0.949778, val accuracy: 0.753000\n",
      "Loss: 0.267106, Train accuracy: 0.948556, val accuracy: 0.759000\n",
      "Loss: 0.276464, Train accuracy: 0.952444, val accuracy: 0.760000\n",
      "Loss: 0.119765, Train accuracy: 0.954000, val accuracy: 0.759000\n",
      "Loss: 0.162145, Train accuracy: 0.954000, val accuracy: 0.762000\n",
      "Loss: 0.219918, Train accuracy: 0.959667, val accuracy: 0.760000\n",
      "Loss: 0.189891, Train accuracy: 0.946111, val accuracy: 0.753000\n",
      "Loss: 0.192881, Train accuracy: 0.956667, val accuracy: 0.768000\n",
      "Loss: 0.368981, Train accuracy: 0.957667, val accuracy: 0.755000\n",
      "Loss: 0.145733, Train accuracy: 0.961222, val accuracy: 0.769000\n",
      "Loss: 0.251000, Train accuracy: 0.958222, val accuracy: 0.756000\n",
      "Loss: 0.208771, Train accuracy: 0.957889, val accuracy: 0.762000\n",
      "Loss: 0.344098, Train accuracy: 0.959222, val accuracy: 0.758000\n",
      "Loss: 0.243075, Train accuracy: 0.961111, val accuracy: 0.760000\n",
      "Loss: 0.175538, Train accuracy: 0.958333, val accuracy: 0.764000\n",
      "Loss: 0.145072, Train accuracy: 0.963444, val accuracy: 0.766000\n",
      "Loss: 0.135891, Train accuracy: 0.967000, val accuracy: 0.769000\n",
      "Loss: 0.119198, Train accuracy: 0.964000, val accuracy: 0.761000\n",
      "Loss: 0.364373, Train accuracy: 0.967000, val accuracy: 0.766000\n",
      "Loss: 0.111808, Train accuracy: 0.967556, val accuracy: 0.768000\n",
      "Loss: 0.222491, Train accuracy: 0.969889, val accuracy: 0.764000\n",
      "Loss: 0.152281, Train accuracy: 0.967889, val accuracy: 0.763000\n",
      "Loss: 0.117436, Train accuracy: 0.971000, val accuracy: 0.766000\n"
     ]
    }
   ],
   "source": [
    "# Let's train the best one-hidden-layer network we can\n",
    "\n",
    "l = 1e-2\n",
    "reg_strength = 1e-7\n",
    "learning_rate_decay = 0.999\n",
    "hidden_layer_s = 128\n",
    "n_epochs = 100\n",
    "b_s = 64\n",
    "\n",
    "best_classifier = None\n",
    "best_val_accuracy = None\n",
    "\n",
    "loss_history = []\n",
    "train_history = []\n",
    "val_history = []\n",
    "\n",
    "# TODO find the best hyperparameters to train the network\n",
    "model = TwoLayerNet(n_input = train_X.shape[1], n_output = 10, hidden_layer_size = hidden_layer_s, reg = reg_strength)\n",
    "dataset = Dataset(train_X[:], train_y[:], val_X[:], val_y[:])\n",
    "trainer = Trainer(model, dataset, MomentumSGD(), learning_rate=l, num_epochs=n_epochs, batch_size=b_s, learning_rate_decay=decay)\n",
    "\n",
    "loss_history, train_history, val_history = trainer.fit()\n",
    "\n",
    "# Don't hesitate to add new values to the arrays above, perform experiments, use any tricks you want\n",
    "# You should expect to get to at least 40% of valudation accuracy\n",
    "# Save loss/train/history of the best classifier to the variables above\n",
    "\n",
    "#print('best validation accuracy achieved: %f' % best_val_accuracy)"
   ]
  },
  {
   "cell_type": "code",
   "execution_count": 132,
   "metadata": {},
   "outputs": [
    {
     "data": {
      "text/plain": [
       "[<matplotlib.lines.Line2D at 0x7f784ffa3a58>]"
      ]
     },
     "execution_count": 132,
     "metadata": {},
     "output_type": "execute_result"
    },
    {
     "data": {
      "image/png": "[encoded data removed]",
      "text/plain": [
       "<Figure size 1080x504 with 2 Axes>"
      ]
     },
     "metadata": {
      "needs_background": "light"
     },
     "output_type": "display_data"
    }
   ],
   "source": [
    "plt.figure(figsize=(15, 7))\n",
    "plt.subplot(211)\n",
    "plt.title(\"Loss\")\n",
    "plt.plot(loss_history)\n",
    "plt.subplot(212)\n",
    "plt.title(\"Train/validation accuracy\")\n",
    "plt.plot(train_history)\n",
    "plt.plot(val_history)"
   ]
  },
  {
   "cell_type": "markdown",
   "metadata": {},
   "source": [
    "# Как обычно, посмотрим, как наша лучшая модель работает на тестовых данных"
   ]
  },
  {
   "cell_type": "code",
   "execution_count": 133,
   "metadata": {},
   "outputs": [
    {
     "name": "stdout",
     "output_type": "stream",
     "text": [
      "Neural net test set accuracy: 0.757000\n"
     ]
    }
   ],
   "source": [
    "test_pred = model.predict(test_X)\n",
    "test_accuracy = multiclass_accuracy(test_pred, test_y)\n",
    "print('Neural net test set accuracy: %f' % (test_accuracy, ))"
   ]
  },
  {
   "cell_type": "code",
   "execution_count": null,
   "metadata": {},
   "outputs": [],
   "source": []
  }
 ],
 "metadata": {
  "kernelspec": {
   "display_name": "Python 3",
   "language": "python",
   "name": "python3"
  },
  "language_info": {
   "codemirror_mode": {
    "name": "ipython",
    "version": 3
   },
   "file_extension": ".py",
   "mimetype": "text/x-python",
   "name": "python",
   "nbconvert_exporter": "python",
   "pygments_lexer": "ipython3",
   "version": "3.7.3rc1"
  }
 },
 "nbformat": 4,
 "nbformat_minor": 2
}
